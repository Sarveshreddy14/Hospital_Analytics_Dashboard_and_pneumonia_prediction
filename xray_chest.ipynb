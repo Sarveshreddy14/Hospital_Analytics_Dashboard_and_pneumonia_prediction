{
 "cells": [
  {
   "cell_type": "code",
   "execution_count": 2,
   "id": "18ecfa5c",
   "metadata": {},
   "outputs": [
    {
     "name": "stdout",
     "output_type": "stream",
     "text": [
      "Note: you may need to restart the kernel to use updated packages.\n"
     ]
    },
    {
     "name": "stderr",
     "output_type": "stream",
     "text": [
      "ERROR: Ignored the following versions that require a different python version: 0.28.0 Requires-Python >=3.7,<3.11\n",
      "ERROR: Could not find a version that satisfies the requirement tensorflow-io-gcs-filesystem==0.34.0 (from versions: 0.29.0, 0.30.0, 0.31.0)\n",
      "ERROR: No matching distribution found for tensorflow-io-gcs-filesystem==0.34.0\n"
     ]
    },
    {
     "name": "stdout",
     "output_type": "stream",
     "text": [
      "Note: you may need to restart the kernel to use updated packages.\n"
     ]
    }
   ],
   "source": [
    "%pip install --quiet tensorflow==2.15.0 tensorflow-io-gcs-filesystem==0.34.0\n",
    "%pip install --quiet scikit-learn matplotlib pandas\n"
   ]
  },
  {
   "cell_type": "code",
   "execution_count": 1,
   "id": "7145e8a6",
   "metadata": {},
   "outputs": [
    {
     "name": "stdout",
     "output_type": "stream",
     "text": [
      "TensorFlow: 2.18.0\n",
      "Train: True Val: True Test: True\n"
     ]
    }
   ],
   "source": [
    "import os, pathlib, math, numpy as np, pandas as pd, matplotlib.pyplot as plt\n",
    "import tensorflow as tf\n",
    "from sklearn.metrics import (accuracy_score, precision_score, recall_score,\n",
    "                             roc_auc_score, confusion_matrix, classification_report, roc_curve)\n",
    "\n",
    "DATA_ROOT = pathlib.Path(r\"C:\\Users\\sarve\\Downloads\\Final_Project_hospital_app\\xray_pneumonia\\chest_xray\")\n",
    "TRAIN_DIR = DATA_ROOT/\"train\"\n",
    "VAL_DIR   = DATA_ROOT/\"val\"\n",
    "TEST_DIR  = DATA_ROOT/\"test\"\n",
    "\n",
    "SAVE_DIR  = pathlib.Path(r\"C:\\Users\\sarve\\Downloads\\Final_Project_hospital_app\\model_store\")\n",
    "SAVE_DIR.mkdir(parents=True, exist_ok=True)\n",
    "\n",
    "IMG_SIZE   = (224, 224)      # EfficientNetB0 default input size\n",
    "BATCH_SIZE = 32\n",
    "SEED       = 42\n",
    "\n",
    "print(\"TensorFlow:\", tf.__version__)\n",
    "print(\"Train:\", TRAIN_DIR.exists(), \"Val:\", VAL_DIR.exists(), \"Test:\", TEST_DIR.exists())\n"
   ]
  },
  {
   "cell_type": "code",
   "execution_count": 2,
   "id": "7e5b07b2",
   "metadata": {},
   "outputs": [
    {
     "name": "stdout",
     "output_type": "stream",
     "text": [
      "Found 5216 files belonging to 2 classes.\n",
      "Found 16 files belonging to 2 classes.\n",
      "Found 624 files belonging to 2 classes.\n",
      "Train counts -> NORMAL: 1341 PNEUMONIA: 3875\n",
      "Class weights: {0: 1.944817300514747, 1: 0.6730322580636477}\n"
     ]
    }
   ],
   "source": [
    "tf.random.set_seed(SEED)\n",
    "\n",
    "def make_ds(dir_path, shuffle=True):\n",
    "    return tf.keras.utils.image_dataset_from_directory(\n",
    "        dir_path,\n",
    "        labels=\"inferred\",\n",
    "        label_mode=\"binary\",        # binary labels 0/1\n",
    "        color_mode=\"rgb\",           # converts grayscale to 3ch automatically\n",
    "        batch_size=BATCH_SIZE,\n",
    "        image_size=IMG_SIZE,\n",
    "        shuffle=shuffle,\n",
    "        seed=SEED\n",
    "    )\n",
    "\n",
    "train_ds = make_ds(TRAIN_DIR, shuffle=True)\n",
    "val_ds   = make_ds(VAL_DIR, shuffle=False)\n",
    "test_ds  = make_ds(TEST_DIR, shuffle=False)\n",
    "\n",
    "# Cache + prefetch for speed\n",
    "AUTOTUNE = tf.data.AUTOTUNE\n",
    "train_ds = train_ds.cache().prefetch(AUTOTUNE)\n",
    "val_ds   = val_ds.cache().prefetch(AUTOTUNE)\n",
    "test_ds  = test_ds.cache().prefetch(AUTOTUNE)\n",
    "\n",
    "# Compute class weights from the (unshuffled) file structure\n",
    "def count_per_class(folder):\n",
    "    n_pos = len(list((folder/\"PNEUMONIA\").glob(\"**/*.*\")))\n",
    "    n_neg = len(list((folder/\"NORMAL\").glob(\"**/*.*\")))\n",
    "    return n_neg, n_pos\n",
    "\n",
    "n_neg, n_pos = count_per_class(TRAIN_DIR)\n",
    "total = n_neg + n_pos\n",
    "class_weight = {\n",
    "    0: total / (2.0 * n_neg + 1e-8),  # NORMAL\n",
    "    1: total / (2.0 * n_pos + 1e-8)   # PNEUMONIA\n",
    "}\n",
    "print(\"Train counts -> NORMAL:\", n_neg, \"PNEUMONIA:\", n_pos)\n",
    "print(\"Class weights:\", class_weight)\n"
   ]
  },
  {
   "cell_type": "code",
   "execution_count": 3,
   "id": "ef46304d",
   "metadata": {},
   "outputs": [
    {
     "data": {
      "text/html": [
       "<pre style=\"white-space:pre;overflow-x:auto;line-height:normal;font-family:Menlo,'DejaVu Sans Mono',consolas,'Courier New',monospace\"><span style=\"font-weight: bold\">Model: \"functional_1\"</span>\n",
       "</pre>\n"
      ],
      "text/plain": [
       "\u001b[1mModel: \"functional_1\"\u001b[0m\n"
      ]
     },
     "metadata": {},
     "output_type": "display_data"
    },
    {
     "data": {
      "text/html": [
       "<pre style=\"white-space:pre;overflow-x:auto;line-height:normal;font-family:Menlo,'DejaVu Sans Mono',consolas,'Courier New',monospace\">┏━━━━━━━━━━━━━━━━━━━━━━━━━━━━━━━━━┳━━━━━━━━━━━━━━━━━━━━━━━━┳━━━━━━━━━━━━━━━┓\n",
       "┃<span style=\"font-weight: bold\"> Layer (type)                    </span>┃<span style=\"font-weight: bold\"> Output Shape           </span>┃<span style=\"font-weight: bold\">       Param # </span>┃\n",
       "┡━━━━━━━━━━━━━━━━━━━━━━━━━━━━━━━━━╇━━━━━━━━━━━━━━━━━━━━━━━━╇━━━━━━━━━━━━━━━┩\n",
       "│ input_layer_1 (<span style=\"color: #0087ff; text-decoration-color: #0087ff\">InputLayer</span>)      │ (<span style=\"color: #00d7ff; text-decoration-color: #00d7ff\">None</span>, <span style=\"color: #00af00; text-decoration-color: #00af00\">224</span>, <span style=\"color: #00af00; text-decoration-color: #00af00\">224</span>, <span style=\"color: #00af00; text-decoration-color: #00af00\">3</span>)    │             <span style=\"color: #00af00; text-decoration-color: #00af00\">0</span> │\n",
       "├─────────────────────────────────┼────────────────────────┼───────────────┤\n",
       "│ augment (<span style=\"color: #0087ff; text-decoration-color: #0087ff\">Sequential</span>)            │ (<span style=\"color: #00d7ff; text-decoration-color: #00d7ff\">None</span>, <span style=\"color: #00af00; text-decoration-color: #00af00\">224</span>, <span style=\"color: #00af00; text-decoration-color: #00af00\">224</span>, <span style=\"color: #00af00; text-decoration-color: #00af00\">3</span>)    │             <span style=\"color: #00af00; text-decoration-color: #00af00\">0</span> │\n",
       "├─────────────────────────────────┼────────────────────────┼───────────────┤\n",
       "│ efficientnetb0 (<span style=\"color: #0087ff; text-decoration-color: #0087ff\">Functional</span>)     │ (<span style=\"color: #00d7ff; text-decoration-color: #00d7ff\">None</span>, <span style=\"color: #00af00; text-decoration-color: #00af00\">7</span>, <span style=\"color: #00af00; text-decoration-color: #00af00\">7</span>, <span style=\"color: #00af00; text-decoration-color: #00af00\">1280</span>)     │     <span style=\"color: #00af00; text-decoration-color: #00af00\">4,049,571</span> │\n",
       "├─────────────────────────────────┼────────────────────────┼───────────────┤\n",
       "│ global_average_pooling2d        │ (<span style=\"color: #00d7ff; text-decoration-color: #00d7ff\">None</span>, <span style=\"color: #00af00; text-decoration-color: #00af00\">1280</span>)           │             <span style=\"color: #00af00; text-decoration-color: #00af00\">0</span> │\n",
       "│ (<span style=\"color: #0087ff; text-decoration-color: #0087ff\">GlobalAveragePooling2D</span>)        │                        │               │\n",
       "├─────────────────────────────────┼────────────────────────┼───────────────┤\n",
       "│ dropout (<span style=\"color: #0087ff; text-decoration-color: #0087ff\">Dropout</span>)               │ (<span style=\"color: #00d7ff; text-decoration-color: #00d7ff\">None</span>, <span style=\"color: #00af00; text-decoration-color: #00af00\">1280</span>)           │             <span style=\"color: #00af00; text-decoration-color: #00af00\">0</span> │\n",
       "├─────────────────────────────────┼────────────────────────┼───────────────┤\n",
       "│ dense (<span style=\"color: #0087ff; text-decoration-color: #0087ff\">Dense</span>)                   │ (<span style=\"color: #00d7ff; text-decoration-color: #00d7ff\">None</span>, <span style=\"color: #00af00; text-decoration-color: #00af00\">1</span>)              │         <span style=\"color: #00af00; text-decoration-color: #00af00\">1,281</span> │\n",
       "└─────────────────────────────────┴────────────────────────┴───────────────┘\n",
       "</pre>\n"
      ],
      "text/plain": [
       "┏━━━━━━━━━━━━━━━━━━━━━━━━━━━━━━━━━┳━━━━━━━━━━━━━━━━━━━━━━━━┳━━━━━━━━━━━━━━━┓\n",
       "┃\u001b[1m \u001b[0m\u001b[1mLayer (type)                   \u001b[0m\u001b[1m \u001b[0m┃\u001b[1m \u001b[0m\u001b[1mOutput Shape          \u001b[0m\u001b[1m \u001b[0m┃\u001b[1m \u001b[0m\u001b[1m      Param #\u001b[0m\u001b[1m \u001b[0m┃\n",
       "┡━━━━━━━━━━━━━━━━━━━━━━━━━━━━━━━━━╇━━━━━━━━━━━━━━━━━━━━━━━━╇━━━━━━━━━━━━━━━┩\n",
       "│ input_layer_1 (\u001b[38;5;33mInputLayer\u001b[0m)      │ (\u001b[38;5;45mNone\u001b[0m, \u001b[38;5;34m224\u001b[0m, \u001b[38;5;34m224\u001b[0m, \u001b[38;5;34m3\u001b[0m)    │             \u001b[38;5;34m0\u001b[0m │\n",
       "├─────────────────────────────────┼────────────────────────┼───────────────┤\n",
       "│ augment (\u001b[38;5;33mSequential\u001b[0m)            │ (\u001b[38;5;45mNone\u001b[0m, \u001b[38;5;34m224\u001b[0m, \u001b[38;5;34m224\u001b[0m, \u001b[38;5;34m3\u001b[0m)    │             \u001b[38;5;34m0\u001b[0m │\n",
       "├─────────────────────────────────┼────────────────────────┼───────────────┤\n",
       "│ efficientnetb0 (\u001b[38;5;33mFunctional\u001b[0m)     │ (\u001b[38;5;45mNone\u001b[0m, \u001b[38;5;34m7\u001b[0m, \u001b[38;5;34m7\u001b[0m, \u001b[38;5;34m1280\u001b[0m)     │     \u001b[38;5;34m4,049,571\u001b[0m │\n",
       "├─────────────────────────────────┼────────────────────────┼───────────────┤\n",
       "│ global_average_pooling2d        │ (\u001b[38;5;45mNone\u001b[0m, \u001b[38;5;34m1280\u001b[0m)           │             \u001b[38;5;34m0\u001b[0m │\n",
       "│ (\u001b[38;5;33mGlobalAveragePooling2D\u001b[0m)        │                        │               │\n",
       "├─────────────────────────────────┼────────────────────────┼───────────────┤\n",
       "│ dropout (\u001b[38;5;33mDropout\u001b[0m)               │ (\u001b[38;5;45mNone\u001b[0m, \u001b[38;5;34m1280\u001b[0m)           │             \u001b[38;5;34m0\u001b[0m │\n",
       "├─────────────────────────────────┼────────────────────────┼───────────────┤\n",
       "│ dense (\u001b[38;5;33mDense\u001b[0m)                   │ (\u001b[38;5;45mNone\u001b[0m, \u001b[38;5;34m1\u001b[0m)              │         \u001b[38;5;34m1,281\u001b[0m │\n",
       "└─────────────────────────────────┴────────────────────────┴───────────────┘\n"
      ]
     },
     "metadata": {},
     "output_type": "display_data"
    },
    {
     "data": {
      "text/html": [
       "<pre style=\"white-space:pre;overflow-x:auto;line-height:normal;font-family:Menlo,'DejaVu Sans Mono',consolas,'Courier New',monospace\"><span style=\"font-weight: bold\"> Total params: </span><span style=\"color: #00af00; text-decoration-color: #00af00\">4,050,852</span> (15.45 MB)\n",
       "</pre>\n"
      ],
      "text/plain": [
       "\u001b[1m Total params: \u001b[0m\u001b[38;5;34m4,050,852\u001b[0m (15.45 MB)\n"
      ]
     },
     "metadata": {},
     "output_type": "display_data"
    },
    {
     "data": {
      "text/html": [
       "<pre style=\"white-space:pre;overflow-x:auto;line-height:normal;font-family:Menlo,'DejaVu Sans Mono',consolas,'Courier New',monospace\"><span style=\"font-weight: bold\"> Trainable params: </span><span style=\"color: #00af00; text-decoration-color: #00af00\">1,281</span> (5.00 KB)\n",
       "</pre>\n"
      ],
      "text/plain": [
       "\u001b[1m Trainable params: \u001b[0m\u001b[38;5;34m1,281\u001b[0m (5.00 KB)\n"
      ]
     },
     "metadata": {},
     "output_type": "display_data"
    },
    {
     "data": {
      "text/html": [
       "<pre style=\"white-space:pre;overflow-x:auto;line-height:normal;font-family:Menlo,'DejaVu Sans Mono',consolas,'Courier New',monospace\"><span style=\"font-weight: bold\"> Non-trainable params: </span><span style=\"color: #00af00; text-decoration-color: #00af00\">4,049,571</span> (15.45 MB)\n",
       "</pre>\n"
      ],
      "text/plain": [
       "\u001b[1m Non-trainable params: \u001b[0m\u001b[38;5;34m4,049,571\u001b[0m (15.45 MB)\n"
      ]
     },
     "metadata": {},
     "output_type": "display_data"
    }
   ],
   "source": [
    "from tensorflow.keras import layers, models\n",
    "from tensorflow.keras.applications import EfficientNetB0\n",
    "from tensorflow.keras.applications.efficientnet import preprocess_input\n",
    "\n",
    "# Augmentations (light but effective for X-rays)\n",
    "data_augment = tf.keras.Sequential([\n",
    "    layers.RandomFlip(\"horizontal\"),\n",
    "    layers.RandomRotation(0.05),\n",
    "    layers.RandomZoom(0.1),\n",
    "    layers.RandomContrast(0.1),\n",
    "], name=\"augment\")\n",
    "\n",
    "# Base model (pretrained on ImageNet)\n",
    "base = EfficientNetB0(include_top=False, weights=\"imagenet\", input_shape=IMG_SIZE + (3,))\n",
    "base.trainable = False  # start by freezing\n",
    "\n",
    "inputs = layers.Input(shape=IMG_SIZE + (3,))\n",
    "x = data_augment(inputs)\n",
    "x = preprocess_input(x)\n",
    "x = base(x, training=False)\n",
    "x = layers.GlobalAveragePooling2D()(x)\n",
    "x = layers.Dropout(0.35)(x)\n",
    "outputs = layers.Dense(1, activation=\"sigmoid\")(x)\n",
    "\n",
    "model = models.Model(inputs, outputs)\n",
    "model.compile(\n",
    "    optimizer=tf.keras.optimizers.Adam(1e-3),\n",
    "    loss=\"binary_crossentropy\",\n",
    "    metrics=[\n",
    "        tf.keras.metrics.BinaryAccuracy(name=\"accuracy\"),\n",
    "        tf.keras.metrics.Precision(name=\"precision\"),\n",
    "        tf.keras.metrics.Recall(name=\"recall\"),\n",
    "        tf.keras.metrics.AUC(name=\"auc\", curve=\"ROC\"),\n",
    "    ],\n",
    ")\n",
    "model.summary()\n"
   ]
  },
  {
   "cell_type": "code",
   "execution_count": 4,
   "id": "f185f564",
   "metadata": {},
   "outputs": [
    {
     "name": "stdout",
     "output_type": "stream",
     "text": [
      "Devices: [LogicalDevice(name='/device:CPU:0', device_type='CPU')]\n",
      "Found 5216 files belonging to 2 classes.\n",
      "Found 16 files belonging to 2 classes.\n",
      "Found 624 files belonging to 2 classes.\n",
      "Sample batch: (16, 224, 224, 3) (16, 1)\n",
      "Reusing existing model.\n",
      "Epoch 1/10\n",
      "\u001b[1m326/326\u001b[0m \u001b[32m━━━━━━━━━━━━━━━━━━━━\u001b[0m\u001b[37m\u001b[0m \u001b[1m0s\u001b[0m 452ms/step - accuracy: 0.7801 - auc: 0.8714 - loss: 0.4494 - precision: 0.9234 - recall: 0.7575\n",
      "Epoch 1: val_auc improved from -inf to 0.98438, saving model to C:\\Users\\sarve\\Downloads\\Final_Project_hospital_app\\model_store\\cxr_effb0_best.keras\n",
      "\u001b[1m326/326\u001b[0m \u001b[32m━━━━━━━━━━━━━━━━━━━━\u001b[0m\u001b[37m\u001b[0m \u001b[1m160s\u001b[0m 462ms/step - accuracy: 0.7804 - auc: 0.8716 - loss: 0.4490 - precision: 0.9235 - recall: 0.7578 - val_accuracy: 0.8750 - val_auc: 0.9844 - val_loss: 0.2964 - val_precision: 0.8000 - val_recall: 1.0000 - learning_rate: 0.0010\n",
      "Epoch 2/10\n",
      "\u001b[1m326/326\u001b[0m \u001b[32m━━━━━━━━━━━━━━━━━━━━\u001b[0m\u001b[37m\u001b[0m \u001b[1m0s\u001b[0m 466ms/step - accuracy: 0.9001 - auc: 0.9690 - loss: 0.2401 - precision: 0.9675 - recall: 0.8937\n",
      "Epoch 2: val_auc improved from 0.98438 to 1.00000, saving model to C:\\Users\\sarve\\Downloads\\Final_Project_hospital_app\\model_store\\cxr_effb0_best.keras\n",
      "\u001b[1m326/326\u001b[0m \u001b[32m━━━━━━━━━━━━━━━━━━━━\u001b[0m\u001b[37m\u001b[0m \u001b[1m153s\u001b[0m 468ms/step - accuracy: 0.9001 - auc: 0.9690 - loss: 0.2401 - precision: 0.9675 - recall: 0.8937 - val_accuracy: 0.8750 - val_auc: 1.0000 - val_loss: 0.2249 - val_precision: 0.8000 - val_recall: 1.0000 - learning_rate: 0.0010\n",
      "Epoch 3/10\n",
      "\u001b[1m326/326\u001b[0m \u001b[32m━━━━━━━━━━━━━━━━━━━━\u001b[0m\u001b[37m\u001b[0m \u001b[1m0s\u001b[0m 487ms/step - accuracy: 0.9237 - auc: 0.9793 - loss: 0.1921 - precision: 0.9816 - recall: 0.9131\n",
      "Epoch 3: val_auc did not improve from 1.00000\n",
      "\u001b[1m326/326\u001b[0m \u001b[32m━━━━━━━━━━━━━━━━━━━━\u001b[0m\u001b[37m\u001b[0m \u001b[1m160s\u001b[0m 489ms/step - accuracy: 0.9237 - auc: 0.9793 - loss: 0.1921 - precision: 0.9816 - recall: 0.9131 - val_accuracy: 0.9375 - val_auc: 1.0000 - val_loss: 0.1875 - val_precision: 0.8889 - val_recall: 1.0000 - learning_rate: 0.0010\n",
      "Epoch 4/10\n",
      "\u001b[1m326/326\u001b[0m \u001b[32m━━━━━━━━━━━━━━━━━━━━\u001b[0m\u001b[37m\u001b[0m \u001b[1m0s\u001b[0m 473ms/step - accuracy: 0.9279 - auc: 0.9811 - loss: 0.1802 - precision: 0.9819 - recall: 0.9186\n",
      "Epoch 4: ReduceLROnPlateau reducing learning rate to 0.0005000000237487257.\n",
      "\n",
      "Epoch 4: val_auc did not improve from 1.00000\n",
      "\u001b[1m326/326\u001b[0m \u001b[32m━━━━━━━━━━━━━━━━━━━━\u001b[0m\u001b[37m\u001b[0m \u001b[1m155s\u001b[0m 475ms/step - accuracy: 0.9279 - auc: 0.9811 - loss: 0.1802 - precision: 0.9819 - recall: 0.9187 - val_accuracy: 0.9375 - val_auc: 1.0000 - val_loss: 0.1678 - val_precision: 0.8889 - val_recall: 1.0000 - learning_rate: 0.0010\n",
      "Epoch 5/10\n",
      "\u001b[1m326/326\u001b[0m \u001b[32m━━━━━━━━━━━━━━━━━━━━\u001b[0m\u001b[37m\u001b[0m \u001b[1m0s\u001b[0m 473ms/step - accuracy: 0.9319 - auc: 0.9832 - loss: 0.1696 - precision: 0.9809 - recall: 0.9253\n",
      "Epoch 5: val_auc did not improve from 1.00000\n",
      "\u001b[1m326/326\u001b[0m \u001b[32m━━━━━━━━━━━━━━━━━━━━\u001b[0m\u001b[37m\u001b[0m \u001b[1m155s\u001b[0m 475ms/step - accuracy: 0.9318 - auc: 0.9832 - loss: 0.1696 - precision: 0.9809 - recall: 0.9253 - val_accuracy: 0.9375 - val_auc: 1.0000 - val_loss: 0.1503 - val_precision: 0.8889 - val_recall: 1.0000 - learning_rate: 5.0000e-04\n",
      "Epoch 6/10\n",
      "\u001b[1m326/326\u001b[0m \u001b[32m━━━━━━━━━━━━━━━━━━━━\u001b[0m\u001b[37m\u001b[0m \u001b[1m0s\u001b[0m 475ms/step - accuracy: 0.9282 - auc: 0.9817 - loss: 0.1712 - precision: 0.9815 - recall: 0.9193\n",
      "Epoch 6: ReduceLROnPlateau reducing learning rate to 0.0002500000118743628.\n",
      "\n",
      "Epoch 6: val_auc did not improve from 1.00000\n",
      "\u001b[1m326/326\u001b[0m \u001b[32m━━━━━━━━━━━━━━━━━━━━\u001b[0m\u001b[37m\u001b[0m \u001b[1m156s\u001b[0m 477ms/step - accuracy: 0.9282 - auc: 0.9817 - loss: 0.1712 - precision: 0.9815 - recall: 0.9193 - val_accuracy: 0.9375 - val_auc: 1.0000 - val_loss: 0.1504 - val_precision: 0.8889 - val_recall: 1.0000 - learning_rate: 5.0000e-04\n",
      "Epoch 1/10\n",
      "\u001b[1m326/326\u001b[0m \u001b[32m━━━━━━━━━━━━━━━━━━━━\u001b[0m\u001b[37m\u001b[0m \u001b[1m0s\u001b[0m 574ms/step - accuracy: 0.9078 - auc: 0.9719 - loss: 0.2251 - precision: 0.9742 - recall: 0.8981\n",
      "Epoch 1: val_auc did not improve from 1.00000\n",
      "\u001b[1m326/326\u001b[0m \u001b[32m━━━━━━━━━━━━━━━━━━━━\u001b[0m\u001b[37m\u001b[0m \u001b[1m203s\u001b[0m 583ms/step - accuracy: 0.9078 - auc: 0.9719 - loss: 0.2250 - precision: 0.9742 - recall: 0.8981 - val_accuracy: 1.0000 - val_auc: 1.0000 - val_loss: 0.1159 - val_precision: 1.0000 - val_recall: 1.0000 - learning_rate: 1.0000e-04\n",
      "Epoch 2/10\n",
      "\u001b[1m326/326\u001b[0m \u001b[32m━━━━━━━━━━━━━━━━━━━━\u001b[0m\u001b[37m\u001b[0m \u001b[1m0s\u001b[0m 573ms/step - accuracy: 0.9550 - auc: 0.9913 - loss: 0.1175 - precision: 0.9904 - recall: 0.9478\n",
      "Epoch 2: val_auc did not improve from 1.00000\n",
      "\u001b[1m326/326\u001b[0m \u001b[32m━━━━━━━━━━━━━━━━━━━━\u001b[0m\u001b[37m\u001b[0m \u001b[1m188s\u001b[0m 574ms/step - accuracy: 0.9550 - auc: 0.9913 - loss: 0.1175 - precision: 0.9904 - recall: 0.9478 - val_accuracy: 1.0000 - val_auc: 1.0000 - val_loss: 0.0829 - val_precision: 1.0000 - val_recall: 1.0000 - learning_rate: 1.0000e-04\n",
      "Epoch 3/10\n",
      "\u001b[1m326/326\u001b[0m \u001b[32m━━━━━━━━━━━━━━━━━━━━\u001b[0m\u001b[37m\u001b[0m \u001b[1m0s\u001b[0m 538ms/step - accuracy: 0.9596 - auc: 0.9931 - loss: 0.1029 - precision: 0.9907 - recall: 0.9540\n",
      "Epoch 3: ReduceLROnPlateau reducing learning rate to 4.999999873689376e-05.\n",
      "\n",
      "Epoch 3: val_auc did not improve from 1.00000\n",
      "\u001b[1m326/326\u001b[0m \u001b[32m━━━━━━━━━━━━━━━━━━━━\u001b[0m\u001b[37m\u001b[0m \u001b[1m177s\u001b[0m 539ms/step - accuracy: 0.9596 - auc: 0.9932 - loss: 0.1029 - precision: 0.9907 - recall: 0.9540 - val_accuracy: 1.0000 - val_auc: 1.0000 - val_loss: 0.0798 - val_precision: 1.0000 - val_recall: 1.0000 - learning_rate: 1.0000e-04\n",
      "Epoch 4/10\n",
      "\u001b[1m326/326\u001b[0m \u001b[32m━━━━━━━━━━━━━━━━━━━━\u001b[0m\u001b[37m\u001b[0m \u001b[1m0s\u001b[0m 556ms/step - accuracy: 0.9658 - auc: 0.9955 - loss: 0.0833 - precision: 0.9927 - recall: 0.9604\n",
      "Epoch 4: val_auc did not improve from 1.00000\n",
      "\u001b[1m326/326\u001b[0m \u001b[32m━━━━━━━━━━━━━━━━━━━━\u001b[0m\u001b[37m\u001b[0m \u001b[1m182s\u001b[0m 558ms/step - accuracy: 0.9658 - auc: 0.9955 - loss: 0.0833 - precision: 0.9927 - recall: 0.9604 - val_accuracy: 1.0000 - val_auc: 1.0000 - val_loss: 0.0576 - val_precision: 1.0000 - val_recall: 1.0000 - learning_rate: 5.0000e-05\n",
      "Epoch 5/10\n",
      "\u001b[1m326/326\u001b[0m \u001b[32m━━━━━━━━━━━━━━━━━━━━\u001b[0m\u001b[37m\u001b[0m \u001b[1m0s\u001b[0m 565ms/step - accuracy: 0.9755 - auc: 0.9965 - loss: 0.0649 - precision: 0.9963 - recall: 0.9702\n",
      "Epoch 5: ReduceLROnPlateau reducing learning rate to 2.499999936844688e-05.\n",
      "\n",
      "Epoch 5: val_auc did not improve from 1.00000\n",
      "\u001b[1m326/326\u001b[0m \u001b[32m━━━━━━━━━━━━━━━━━━━━\u001b[0m\u001b[37m\u001b[0m \u001b[1m185s\u001b[0m 566ms/step - accuracy: 0.9755 - auc: 0.9965 - loss: 0.0649 - precision: 0.9963 - recall: 0.9702 - val_accuracy: 1.0000 - val_auc: 1.0000 - val_loss: 0.0651 - val_precision: 1.0000 - val_recall: 1.0000 - learning_rate: 5.0000e-05\n",
      "Loaded best model: C:\\Users\\sarve\\Downloads\\Final_Project_hospital_app\\model_store\\cxr_effb0_best.keras\n"
     ]
    }
   ],
   "source": [
    "import os, tensorflow as tf\n",
    "from pathlib import Path\n",
    "\n",
    "# ---------- SAFETY SWITCHES ----------\n",
    "FORCE_CPU = False       # set True if your GPU keeps crashing\n",
    "BATCH_SIZE = 16         # try 16; if it still crashes, set to 8\n",
    "\n",
    "# ---------- DEVICE SETUP ----------\n",
    "if FORCE_CPU:\n",
    "    tf.config.set_visible_devices([], \"GPU\")\n",
    "else:\n",
    "    gpus = tf.config.list_physical_devices(\"GPU\")\n",
    "    if gpus:\n",
    "        try:\n",
    "            for gpu in gpus:\n",
    "                tf.config.experimental.set_memory_growth(gpu, True)\n",
    "            print(\"Enabled GPU memory growth.\")\n",
    "            # Mixed precision for lower VRAM use\n",
    "            from tensorflow.keras import mixed_precision\n",
    "            mixed_precision.set_global_policy(\"mixed_float16\")\n",
    "            print(\"Using mixed precision (float16).\")\n",
    "        except Exception as e:\n",
    "            print(\"GPU setup issue:\", e, \"→ falling back to CPU.\")\n",
    "            tf.config.set_visible_devices([], \"GPU\")\n",
    "\n",
    "print(\"Devices:\", tf.config.list_logical_devices())\n",
    "\n",
    "# ---------- REBUILD DATASETS WITH LOWER MEMORY FOOTPRINT ----------\n",
    "# Recreate datasets with new batch size and without .cache()\n",
    "\n",
    "from tensorflow.data import AUTOTUNE\n",
    "\n",
    "def make_ds(dir_path, shuffle=True):\n",
    "    ds = tf.keras.utils.image_dataset_from_directory(\n",
    "        dir_path,\n",
    "        labels=\"inferred\",\n",
    "        label_mode=\"binary\",\n",
    "        color_mode=\"rgb\",\n",
    "        batch_size=BATCH_SIZE,\n",
    "        image_size=IMG_SIZE,\n",
    "        shuffle=shuffle,\n",
    "        seed=SEED\n",
    "    )\n",
    "    # Basic performance tuning without caching\n",
    "    return ds.map(lambda x, y: (tf.cast(x, tf.float32), tf.cast(y, tf.float32)),\n",
    "                  num_parallel_calls=AUTOTUNE).prefetch(AUTOTUNE)\n",
    "\n",
    "train_ds = make_ds(TRAIN_DIR, shuffle=True)\n",
    "val_ds   = make_ds(VAL_DIR,   shuffle=False)\n",
    "test_ds  = make_ds(TEST_DIR,  shuffle=False)\n",
    "\n",
    "# Quick sanity: iterate 1 batch to ensure decoding works and won’t crash\n",
    "for xb, yb in train_ds.take(1):\n",
    "    print(\"Sample batch:\", xb.shape, yb.shape)\n",
    "\n",
    "# ---------- CALLBACKS ----------\n",
    "callbacks = [\n",
    "    tf.keras.callbacks.EarlyStopping(monitor=\"val_auc\", mode=\"max\", patience=4, restore_best_weights=True),\n",
    "    tf.keras.callbacks.ReduceLROnPlateau(monitor=\"val_auc\", mode=\"max\", factor=0.5, patience=2, min_lr=1e-6, verbose=1),\n",
    "    tf.keras.callbacks.ModelCheckpoint(filepath=str(SAVE_DIR/\"cxr_effb0_best.keras\"),\n",
    "                                       monitor=\"val_auc\", mode=\"max\", save_best_only=True, verbose=1),\n",
    "]\n",
    "\n",
    "# ---------- (RE)BUILD / (RE)COMPILE MODEL SAFELY ----------\n",
    "# If you created 'model' & 'base' earlier, reuse them; otherwise re-create (same as before)\n",
    "from tensorflow.keras import layers, models\n",
    "from tensorflow.keras.applications import EfficientNetB0\n",
    "from tensorflow.keras.applications.efficientnet import preprocess_input\n",
    "\n",
    "try:\n",
    "    base\n",
    "    model\n",
    "    print(\"Reusing existing model.\")\n",
    "except NameError:\n",
    "    print(\"Building model from scratch.\")\n",
    "    data_augment = tf.keras.Sequential([\n",
    "        layers.RandomFlip(\"horizontal\"),\n",
    "        layers.RandomRotation(0.05),\n",
    "        layers.RandomZoom(0.1),\n",
    "        layers.RandomContrast(0.1),\n",
    "    ], name=\"augment\")\n",
    "\n",
    "    base = EfficientNetB0(include_top=False, weights=\"imagenet\", input_shape=IMG_SIZE + (3,))\n",
    "    base.trainable = False\n",
    "\n",
    "    inputs = layers.Input(shape=IMG_SIZE + (3,))\n",
    "    x = data_augment(inputs)\n",
    "    x = preprocess_input(x)\n",
    "    x = base(x, training=False)\n",
    "    x = layers.GlobalAveragePooling2D()(x)\n",
    "    x = layers.Dropout(0.35)(x)\n",
    "    # If mixed precision, ensure the output layer is float32 to avoid dtype issues with loss/metrics\n",
    "    dtype_out = \"float32\" if tf.keras.mixed_precision.global_policy().name.startswith(\"mixed\") else None\n",
    "    outputs = layers.Dense(1, activation=\"sigmoid\", dtype=dtype_out)(x)\n",
    "    model = models.Model(inputs, outputs)\n",
    "\n",
    "model.compile(\n",
    "    optimizer=tf.keras.optimizers.Adam(1e-3),\n",
    "    loss=\"binary_crossentropy\",\n",
    "    metrics=[\n",
    "        tf.keras.metrics.BinaryAccuracy(name=\"accuracy\"),\n",
    "        tf.keras.metrics.Precision(name=\"precision\"),\n",
    "        tf.keras.metrics.Recall(name=\"recall\"),\n",
    "        tf.keras.metrics.AUC(name=\"auc\", curve=\"ROC\"),\n",
    "    ],\n",
    ")\n",
    "\n",
    "# ---------- STAGE 1: train head (frozen base) ----------\n",
    "history1 = model.fit(\n",
    "    train_ds, validation_data=val_ds, epochs=10,\n",
    "    class_weight=class_weight, callbacks=callbacks, verbose=1\n",
    ")\n",
    "\n",
    "# ---------- STAGE 2: fine-tune top of the base ----------\n",
    "base.trainable = True\n",
    "for layer in base.layers[:-40]:\n",
    "    layer.trainable = False\n",
    "\n",
    "model.compile(\n",
    "    optimizer=tf.keras.optimizers.Adam(1e-4),\n",
    "    loss=\"binary_crossentropy\",\n",
    "    metrics=[\n",
    "        tf.keras.metrics.BinaryAccuracy(name=\"accuracy\"),\n",
    "        tf.keras.metrics.Precision(name=\"precision\"),\n",
    "        tf.keras.metrics.Recall(name=\"recall\"),\n",
    "        tf.keras.metrics.AUC(name=\"auc\", curve=\"ROC\"),\n",
    "    ],\n",
    ")\n",
    "\n",
    "history2 = model.fit(\n",
    "    train_ds, validation_data=val_ds, epochs=10,\n",
    "    class_weight=class_weight, callbacks=callbacks, verbose=1\n",
    ")\n",
    "\n",
    "# ---------- LOAD BEST ----------\n",
    "best_path = SAVE_DIR/\"cxr_effb0_best.keras\"\n",
    "if Path(best_path).exists():\n",
    "    model = tf.keras.models.load_model(best_path)\n",
    "    print(\"Loaded best model:\", best_path)\n"
   ]
  },
  {
   "cell_type": "code",
   "execution_count": 5,
   "id": "c71b099b",
   "metadata": {},
   "outputs": [
    {
     "name": "stdout",
     "output_type": "stream",
     "text": [
      "\n",
      "Keras evaluate on TEST:\n",
      "\u001b[1m39/39\u001b[0m \u001b[32m━━━━━━━━━━━━━━━━━━━━\u001b[0m\u001b[37m\u001b[0m \u001b[1m19s\u001b[0m 424ms/step - accuracy: 0.7279 - auc: 0.6038 - loss: 0.5473 - precision: 0.4089 - recall: 0.6034\n",
      "Found 624 files belonging to 2 classes.\n",
      "\n",
      "=== TEST METRICS ===\n",
      "Accuracy : 0.8301\n",
      "Precision: 0.8184\n",
      "Recall   : 0.9359\n",
      "ROC AUC  : 0.9272\n",
      "\n",
      "Confusion matrix (labels=[NORMAL=0, PNEUMONIA=1]):\n",
      " [[153  81]\n",
      " [ 25 365]]\n",
      "\n",
      "Classification report:\n",
      "               precision    recall  f1-score   support\n",
      "\n",
      "      NORMAL      0.860     0.654     0.743       234\n",
      "   PNEUMONIA      0.818     0.936     0.873       390\n",
      "\n",
      "    accuracy                          0.830       624\n",
      "   macro avg      0.839     0.795     0.808       624\n",
      "weighted avg      0.834     0.830     0.824       624\n",
      "\n"
     ]
    },
    {
     "data": {
      "image/png": "[encoded data removed]",
      "text/plain": [
       "<Figure size 640x480 with 1 Axes>"
      ]
     },
     "metadata": {},
     "output_type": "display_data"
    },
    {
     "data": {
      "image/png": "[encoded data removed]",
      "text/plain": [
       "<Figure size 640x480 with 1 Axes>"
      ]
     },
     "metadata": {},
     "output_type": "display_data"
    },
    {
     "name": "stdout",
     "output_type": "stream",
     "text": [
      "\n",
      "Saved:\n",
      " • Predictions → C:\\Users\\sarve\\Downloads\\Final_Project_hospital_app\\model_store\\cxr_test_predictions.csv\n",
      " • Metrics JSON → C:\\Users\\sarve\\Downloads\\Final_Project_hospital_app\\model_store\\cxr_test_metrics.json\n"
     ]
    }
   ],
   "source": [
    "import numpy as np, pandas as pd, json, matplotlib.pyplot as plt\n",
    "from sklearn.metrics import (accuracy_score, precision_score, recall_score,\n",
    "                             roc_auc_score, confusion_matrix, classification_report,\n",
    "                             roc_curve, precision_recall_curve)\n",
    "\n",
    "# 1) Keras quick eval\n",
    "print(\"\\nKeras evaluate on TEST:\")\n",
    "_ = model.evaluate(test_ds, verbose=1)\n",
    "\n",
    "# 2) Collect predictions explicitly (for sklearn metrics & saving)\n",
    "y_true, y_proba = [], []\n",
    "filepaths = []\n",
    "\n",
    "# Rebuild a filepaths dataset to keep filenames (image_dataset_from_directory can return them)\n",
    "test_files = tf.keras.utils.image_dataset_from_directory(\n",
    "    TEST_DIR, labels=\"inferred\", label_mode=\"binary\",\n",
    "    image_size=IMG_SIZE, shuffle=False, batch_size=1\n",
    ")\n",
    "class_names = test_files.class_names  # [\"NORMAL\",\"PNEUMONIA\"]\n",
    "\n",
    "for (xb, yb) in test_files:\n",
    "    proba = model.predict(xb, verbose=0).ravel()[0]\n",
    "    y_proba.append(proba)\n",
    "    y_true.append(int(yb.numpy().ravel()[0]))\n",
    "# filepaths in the same order as the dataset iterator:\n",
    "filepaths = test_files.file_paths\n",
    "\n",
    "y_true  = np.array(y_true, dtype=int)\n",
    "y_proba = np.array(y_proba)\n",
    "y_pred  = (y_proba >= 0.5).astype(int)\n",
    "\n",
    "# 3) Metrics\n",
    "acc  = accuracy_score(y_true, y_pred)\n",
    "prec = precision_score(y_true, y_pred, zero_division=0)\n",
    "rec  = recall_score(y_true, y_pred, zero_division=0)\n",
    "auc  = roc_auc_score(y_true, y_proba) if len(np.unique(y_true))==2 else float('nan')\n",
    "cm   = confusion_matrix(y_true, y_pred, labels=[0,1])\n",
    "\n",
    "print(\"\\n=== TEST METRICS ===\")\n",
    "print(f\"Accuracy : {acc:.4f}\")\n",
    "print(f\"Precision: {prec:.4f}\")\n",
    "print(f\"Recall   : {rec:.4f}\")\n",
    "print(f\"ROC AUC  : {auc:.4f}\")\n",
    "print(\"\\nConfusion matrix (labels=[NORMAL=0, PNEUMONIA=1]):\\n\", cm)\n",
    "print(\"\\nClassification report:\\n\",\n",
    "      classification_report(y_true, y_pred, target_names=class_names, digits=3))\n",
    "\n",
    "# 4) Plots (ROC + PR)\n",
    "fpr, tpr, _ = roc_curve(y_true, y_proba)\n",
    "pr, rc, _   = precision_recall_curve(y_true, y_proba)\n",
    "\n",
    "plt.figure()\n",
    "plt.plot(fpr, tpr, lw=2)\n",
    "plt.plot([0,1],[0,1],'--')\n",
    "plt.xlabel(\"False Positive Rate\"); plt.ylabel(\"True Positive Rate (Recall)\")\n",
    "plt.title(f\"ROC Curve (AUC={auc:.3f})\"); plt.grid(True); plt.show()\n",
    "\n",
    "plt.figure()\n",
    "plt.plot(rc, pr, lw=2)\n",
    "plt.xlabel(\"Recall\"); plt.ylabel(\"Precision\"); plt.title(\"Precision–Recall Curve\")\n",
    "plt.grid(True); plt.show()\n",
    "\n",
    "# 5) Save predictions + metrics\n",
    "pred_df = pd.DataFrame({\n",
    "    \"filepath\": filepaths,\n",
    "    \"true_label\": y_true,\n",
    "    \"pred_proba\": y_proba,\n",
    "    \"pred_label\": y_pred\n",
    "})\n",
    "pred_csv = SAVE_DIR/\"cxr_test_predictions.csv\"\n",
    "pred_df.to_csv(pred_csv, index=False)\n",
    "\n",
    "metrics = {\"accuracy\": float(acc), \"precision\": float(prec), \"recall\": float(rec),\n",
    "           \"roc_auc\": float(auc), \"confusion_matrix\": cm.tolist(),\n",
    "           \"classes\": class_names}\n",
    "with open(SAVE_DIR/\"cxr_test_metrics.json\",\"w\") as f:\n",
    "    json.dump(metrics, f, indent=2)\n",
    "\n",
    "print(\"\\nSaved:\")\n",
    "print(\" • Predictions →\", pred_csv)\n",
    "print(\" • Metrics JSON →\", SAVE_DIR/\"cxr_test_metrics.json\")\n"
   ]
  },
  {
   "cell_type": "code",
   "execution_count": 6,
   "id": "fc175011",
   "metadata": {},
   "outputs": [
    {
     "name": "stdout",
     "output_type": "stream",
     "text": [
      "Found 624 files belonging to 2 classes.\n",
      "Confusion matrix (counts) [rows=true, cols=pred]:\n",
      " [[153  81]\n",
      " [ 25 365]]\n"
     ]
    },
    {
     "data": {
      "image/png": "[encoded data removed]",
      "text/plain": [
       "<Figure size 500x500 with 1 Axes>"
      ]
     },
     "metadata": {},
     "output_type": "display_data"
    },
    {
     "data": {
      "image/png": "[encoded data removed]",
      "text/plain": [
       "<Figure size 500x500 with 2 Axes>"
      ]
     },
     "metadata": {},
     "output_type": "display_data"
    }
   ],
   "source": [
    "# Confusion matrix (counts + normalized) for TEST set\n",
    "import numpy as np, matplotlib.pyplot as plt\n",
    "from sklearn.metrics import confusion_matrix, ConfusionMatrixDisplay\n",
    "import tensorflow as tf\n",
    "\n",
    "# Rebuild a deterministic test iterator (batch_size=1 keeps filenames/order stable)\n",
    "test_files = tf.keras.utils.image_dataset_from_directory(\n",
    "    TEST_DIR, labels=\"inferred\", label_mode=\"binary\",\n",
    "    image_size=IMG_SIZE, shuffle=False, batch_size=1\n",
    ")\n",
    "class_names = test_files.class_names  # [\"NORMAL\",\"PNEUMONIA\"]\n",
    "\n",
    "# Collect predictions\n",
    "y_true, y_proba = [], []\n",
    "for xb, yb in test_files:\n",
    "    y_true.append(int(yb.numpy().ravel()[0]))\n",
    "    y_proba.append(float(model.predict(xb, verbose=0).ravel()[0]))\n",
    "\n",
    "y_true  = np.array(y_true, dtype=int)\n",
    "y_pred  = (np.array(y_proba) >= 0.5).astype(int)\n",
    "\n",
    "# Confusion matrix with fixed label order: [NORMAL=0, PNEUMONIA=1]\n",
    "labels = [0, 1]\n",
    "cm = confusion_matrix(y_true, y_pred, labels=labels)\n",
    "cm_norm = cm.astype(float) / cm.sum(axis=1, keepdims=True)\n",
    "\n",
    "print(\"Confusion matrix (counts) [rows=true, cols=pred]:\\n\", cm)\n",
    "\n",
    "# Plot (counts)\n",
    "disp = ConfusionMatrixDisplay(confusion_matrix=cm, display_labels=[\"NORMAL\",\"PNEUMONIA\"])\n",
    "fig, ax = plt.subplots(figsize=(5,5))\n",
    "disp.plot(ax=ax, cmap=\"Blues\", colorbar=False, values_format=\"d\")\n",
    "plt.title(\"Confusion Matrix (Counts)\")\n",
    "plt.show()\n",
    "\n",
    "# Plot (row-normalized)\n",
    "fig, ax = plt.subplots(figsize=(5,5))\n",
    "im = ax.imshow(cm_norm, cmap=\"Blues\")\n",
    "ax.set_xticks([0,1]); ax.set_xticklabels([\"NORMAL\",\"PNEUMONIA\"])\n",
    "ax.set_yticks([0,1]); ax.set_yticklabels([\"NORMAL\",\"PNEUMONIA\"])\n",
    "ax.set_xlabel(\"Predicted\"); ax.set_ylabel(\"True\"); ax.set_title(\"Confusion Matrix (Normalized)\")\n",
    "for i in range(cm_norm.shape[0]):\n",
    "    for j in range(cm_norm.shape[1]):\n",
    "        ax.text(j, i, f\"{cm_norm[i, j]:.2f}\", ha=\"center\", va=\"center\")\n",
    "plt.colorbar(im); plt.tight_layout(); plt.show()\n"
   ]
  },
  {
   "cell_type": "code",
   "execution_count": null,
   "id": "4178068b",
   "metadata": {},
   "outputs": [
    {
     "name": "stdout",
     "output_type": "stream",
     "text": [
      "Note: you may need to restart the kernel to use updated packages.\n"
     ]
    },
    {
     "data": {
      "application/vnd.jupyter.widget-view+json": {
       "model_id": "6c910846ba1645548ec6c4882964f152",
       "version_major": 2,
       "version_minor": 0
      },
      "text/plain": [
       "HBox(children=(FileUpload(value=(), accept='.png,.jpg,.jpeg,.bmp,.tif,.tiff', description='Browse X-ray image(…"
      ]
     },
     "metadata": {},
     "output_type": "display_data"
    },
    {
     "data": {
      "application/vnd.jupyter.widget-view+json": {
       "model_id": "b002b1519b234fcdaeebaa555981b283",
       "version_major": 2,
       "version_minor": 0
      },
      "text/plain": [
       "HTML(value='<b>Model loaded</b> in 0.81s • Warm-up 1.67s')"
      ]
     },
     "metadata": {},
     "output_type": "display_data"
    },
    {
     "data": {
      "application/vnd.jupyter.widget-view+json": {
       "model_id": "49357e50541b42a889757ae19da65877",
       "version_major": 2,
       "version_minor": 0
      },
      "text/plain": [
       "Output()"
      ]
     },
     "metadata": {},
     "output_type": "display_data"
    }
   ],
   "source": [
    "# 🩻 Chest X-ray Pneumonia Detector — Click \"Browse X-ray image(s)\" to upload and predict\n",
    "# One-cell UI for Jupyter using ipywidgets (v7/v8 compatible)\n",
    "\n",
    "# If widgets aren't installed, uncomment:\n",
    "%pip install ipywidgets --quiet\n",
    "\n",
    "import io, time, numpy as np, matplotlib.pyplot as plt\n",
    "from pathlib import Path\n",
    "from PIL import Image\n",
    "import ipywidgets as W\n",
    "from IPython.display import display\n",
    "import tensorflow as tf\n",
    "from tensorflow.keras.applications.efficientnet import preprocess_input\n",
    "\n",
    "# -------- CONFIG --------\n",
    "MODEL_PATH = Path(r\"C:\\Users\\sarve\\Downloads\\Final_Project_hospital_app\\model_store\\cxr_effb0_best.keras\")\n",
    "IMG_SIZE   = (224, 224)   # must match training\n",
    "THRESHOLD  = 0.5          # decision threshold for PNEUMONIA\n",
    "USE_GPU    = False        # True if your GPU is stable; CPU is safer on some Windows setups\n",
    "USE_MIXED  = False        # mixed precision (GPU only)\n",
    "\n",
    "IDX_TO_CLASS = {0: \"NORMAL\", 1: \"PNEUMONIA\"}\n",
    "\n",
    "# -------- DEVICE SETUP --------\n",
    "if not USE_GPU:\n",
    "    tf.config.set_visible_devices([], \"GPU\")\n",
    "else:\n",
    "    gpus = tf.config.list_physical_devices(\"GPU\")\n",
    "    if gpus:\n",
    "        for g in gpus:\n",
    "            try: tf.config.experimental.set_memory_growth(g, True)\n",
    "            except Exception: pass\n",
    "        if USE_MIXED:\n",
    "            from tensorflow.keras import mixed_precision\n",
    "            mixed_precision.set_global_policy(\"mixed_float16\")\n",
    "    else:\n",
    "        print(\"No GPU detected → running on CPU.\")\n",
    "\n",
    "# -------- LOAD MODEL & WARM-UP --------\n",
    "assert MODEL_PATH.exists(), f\"Model not found: {MODEL_PATH}\"\n",
    "t0 = time.time()\n",
    "model = tf.keras.models.load_model(MODEL_PATH)\n",
    "t1 = time.time()\n",
    "# warm-up to avoid first-call lag\n",
    "_ = model.predict(np.zeros((1, IMG_SIZE[0], IMG_SIZE[1], 3), dtype=np.float32), verbose=0)\n",
    "t2 = time.time()\n",
    "\n",
    "# -------- UI WIDGETS --------\n",
    "uploader = W.FileUpload(\n",
    "    accept=\".png,.jpg,.jpeg,.bmp,.tif,.tiff\",\n",
    "    multiple=True,\n",
    "    description=\"Browse X-ray image(s)\"\n",
    ")\n",
    "predict_btn = W.Button(description=\"Predict\", button_style=\"primary\",\n",
    "                       tooltip=\"Run the model on the selected image(s)\")\n",
    "threshold_slider = W.FloatSlider(value=THRESHOLD, min=0.1, max=0.9, step=0.05,\n",
    "                                 description=\"Threshold\", readout_format=\".2f\",\n",
    "                                 continuous_update=False)\n",
    "status = W.HTML(\n",
    "    value=f\"<b>Model loaded</b> in {t1 - t0:.2f}s • Warm-up {t2 - t1:.2f}s\"\n",
    ")\n",
    "out = W.Output()\n",
    "\n",
    "controls = W.HBox([uploader, predict_btn, threshold_slider])\n",
    "display(controls, status, out)\n",
    "\n",
    "# -------- HELPERS --------\n",
    "def _predict_bytes(img_bytes: bytes, img_name: str, threshold: float):\n",
    "    img = Image.open(io.BytesIO(img_bytes)).convert(\"RGB\").resize(IMG_SIZE)\n",
    "    arr = np.array(img, dtype=np.float32)\n",
    "    arr = preprocess_input(arr)\n",
    "    proba = float(model.predict(arr[None, ...], verbose=0).ravel()[0])\n",
    "    pred  = int(proba >= threshold)\n",
    "    label = IDX_TO_CLASS[pred]\n",
    "    return img, proba, label\n",
    "\n",
    "def _plot_results(results):\n",
    "    # results: list of tuples (name, PIL.Image, proba, label)\n",
    "    n = len(results)\n",
    "    cols = 2 if n == 1 else min(3, n)\n",
    "    rows = int(np.ceil(n / cols))\n",
    "    plt.figure(figsize=(5*cols, 5*rows))\n",
    "    for i, (name, img, proba, label) in enumerate(results, 1):\n",
    "        plt.subplot(rows, cols, i)\n",
    "        plt.imshow(img); plt.axis(\"off\")\n",
    "        plt.title(f\"{label}  p={proba:.3f}\\n{name}\", fontsize=11)\n",
    "    plt.tight_layout()\n",
    "    plt.show()\n",
    "\n",
    "def _iter_uploads(upl):\n",
    "    \"\"\"Yield (name, bytes) for ipywidgets FileUpload across v7 (dict) and v8 (tuple).\"\"\"\n",
    "    val = upl.value\n",
    "    if isinstance(val, dict):                    # ipywidgets v7\n",
    "        for name, meta in val.items():\n",
    "            yield name, meta.get(\"content\", b\"\")\n",
    "    elif isinstance(val, tuple):                 # ipywidgets v8\n",
    "        for f in val:\n",
    "            name = getattr(f, \"name\", \"file\")\n",
    "            content = getattr(f, \"content\", b\"\")\n",
    "            yield name, content\n",
    "\n",
    "# -------- EVENTS --------\n",
    "@out.capture(clear_output=True)\n",
    "def on_predict_clicked(_):\n",
    "    if not uploader.value:\n",
    "        print(\"Please click 'Browse X-ray image(s)' and select at least one image.\")\n",
    "        return\n",
    "\n",
    "    th = float(threshold_slider.value)\n",
    "    results = []\n",
    "    t_start = time.time()\n",
    "\n",
    "    for name, content in _iter_uploads(uploader):\n",
    "        if not content:\n",
    "            continue\n",
    "        try:\n",
    "            img, proba, label = _predict_bytes(content, name, th)\n",
    "            results.append((name, img, proba, label))\n",
    "        except Exception as e:\n",
    "            print(f\"Error reading {name}: {e}\")\n",
    "\n",
    "    t_end = time.time()\n",
    "    print(f\"Predicted {len(results)} image(s) in {t_end - t_start:.2f}s (threshold={th:.2f})\")\n",
    "    for name, img, proba, label in results:\n",
    "        print(f\"• {name}: {label}  (p(PNEUMONIA)={proba:.3f})\")\n",
    "\n",
    "    if results:\n",
    "        _plot_results(results)\n",
    "\n",
    "predict_btn.on_click(on_predict_clicked)\n",
    "\n",
    "\n"
   ]
  }
 ],
 "metadata": {
  "kernelspec": {
   "display_name": "Python 3",
   "language": "python",
   "name": "python3"
  },
  "language_info": {
   "codemirror_mode": {
    "name": "ipython",
    "version": 3
   },
   "file_extension": ".py",
   "mimetype": "text/x-python",
   "name": "python",
   "nbconvert_exporter": "python",
   "pygments_lexer": "ipython3",
   "version": "3.11.5"
  }
 },
 "nbformat": 4,
 "nbformat_minor": 5
}
