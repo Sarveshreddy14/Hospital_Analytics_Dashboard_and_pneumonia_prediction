{
 "cells": [
  {
   "cell_type": "code",
   "execution_count": 2,
   "id": "e6b73438",
   "metadata": {},
   "outputs": [
    {
     "name": "stdout",
     "output_type": "stream",
     "text": [
      "False\n"
     ]
    }
   ],
   "source": [
    "import pkgutil, sys\n",
    "mods = [m.name for m in pkgutil.iter_modules()]\n",
    "print(\"keras\" in mods)  # should be False\n"
   ]
  },
  {
   "cell_type": "code",
   "execution_count": 3,
   "id": "2ef62639",
   "metadata": {},
   "outputs": [
    {
     "name": "stdout",
     "output_type": "stream",
     "text": [
      "Defaulting to user installation because normal site-packages is not writeable\n",
      "Collecting keras>=3.4.1\n",
      "  Downloading keras-3.11.3-py3-none-any.whl.metadata (5.9 kB)\n",
      "Collecting keras-core\n",
      "  Downloading keras_core-0.1.7-py3-none-any.whl.metadata (4.3 kB)\n",
      "Requirement already satisfied: tensorflow-io-gcs-filesystem in c:\\users\\sarve\\appdata\\roaming\\python\\python311\\site-packages (0.31.0)\n",
      "Requirement already satisfied: absl-py in c:\\users\\sarve\\appdata\\roaming\\python\\python311\\site-packages (from keras>=3.4.1) (2.1.0)\n",
      "Requirement already satisfied: numpy in c:\\users\\sarve\\appdata\\roaming\\python\\python311\\site-packages (from keras>=3.4.1) (1.26.4)\n",
      "Requirement already satisfied: rich in c:\\users\\sarve\\appdata\\roaming\\python\\python311\\site-packages (from keras>=3.4.1) (13.9.4)\n",
      "Requirement already satisfied: namex in c:\\users\\sarve\\appdata\\roaming\\python\\python311\\site-packages (from keras>=3.4.1) (0.0.8)\n",
      "Requirement already satisfied: h5py in c:\\users\\sarve\\appdata\\roaming\\python\\python311\\site-packages (from keras>=3.4.1) (3.12.1)\n",
      "Requirement already satisfied: optree in c:\\users\\sarve\\appdata\\roaming\\python\\python311\\site-packages (from keras>=3.4.1) (0.14.0)\n",
      "Requirement already satisfied: ml-dtypes in c:\\users\\sarve\\appdata\\roaming\\python\\python311\\site-packages (from keras>=3.4.1) (0.2.0)\n",
      "Requirement already satisfied: packaging in c:\\users\\sarve\\appdata\\roaming\\python\\python311\\site-packages (from keras>=3.4.1) (24.1)\n",
      "Collecting dm-tree (from keras-core)\n",
      "  Downloading dm_tree-0.1.9-cp311-cp311-win_amd64.whl.metadata (2.5 kB)\n",
      "Requirement already satisfied: attrs>=18.2.0 in c:\\users\\sarve\\appdata\\roaming\\python\\python311\\site-packages (from dm-tree->keras-core) (24.2.0)\n",
      "Requirement already satisfied: wrapt>=1.11.2 in c:\\users\\sarve\\appdata\\roaming\\python\\python311\\site-packages (from dm-tree->keras-core) (1.14.2)\n",
      "Requirement already satisfied: typing-extensions>=4.5.0 in c:\\users\\sarve\\appdata\\roaming\\python\\python311\\site-packages (from optree->keras>=3.4.1) (4.12.2)\n",
      "Requirement already satisfied: markdown-it-py>=2.2.0 in c:\\users\\sarve\\appdata\\roaming\\python\\python311\\site-packages (from rich->keras>=3.4.1) (3.0.0)\n",
      "Requirement already satisfied: pygments<3.0.0,>=2.13.0 in c:\\users\\sarve\\appdata\\roaming\\python\\python311\\site-packages (from rich->keras>=3.4.1) (2.18.0)\n",
      "Requirement already satisfied: mdurl~=0.1 in c:\\users\\sarve\\appdata\\roaming\\python\\python311\\site-packages (from markdown-it-py>=2.2.0->rich->keras>=3.4.1) (0.1.2)\n",
      "Downloading keras-3.11.3-py3-none-any.whl (1.4 MB)\n",
      "   ---------------------------------------- 0.0/1.4 MB ? eta -:--:--\n",
      "   ---------------------- ----------------- 0.8/1.4 MB 8.5 MB/s eta 0:00:01\n",
      "   ---------------------------------------- 1.4/1.4 MB 8.2 MB/s  0:00:00\n",
      "Downloading keras_core-0.1.7-py3-none-any.whl (950 kB)\n",
      "   ---------------------------------------- 0.0/950.8 kB ? eta -:--:--\n",
      "   ---------------------------------------- 950.8/950.8 kB 8.8 MB/s  0:00:00\n",
      "Downloading dm_tree-0.1.9-cp311-cp311-win_amd64.whl (101 kB)\n",
      "Installing collected packages: dm-tree, keras-core, keras\n",
      "\n",
      "   ------------- -------------------------- 1/3 [keras-core]\n",
      "   ------------- -------------------------- 1/3 [keras-core]\n",
      "   ------------- -------------------------- 1/3 [keras-core]\n",
      "   ------------- -------------------------- 1/3 [keras-core]\n",
      "   ------------- -------------------------- 1/3 [keras-core]\n",
      "   ------------- -------------------------- 1/3 [keras-core]\n",
      "   ------------- -------------------------- 1/3 [keras-core]\n",
      "   ------------- -------------------------- 1/3 [keras-core]\n",
      "   ------------- -------------------------- 1/3 [keras-core]\n",
      "   ------------- -------------------------- 1/3 [keras-core]\n",
      "   ------------- -------------------------- 1/3 [keras-core]\n",
      "   ------------- -------------------------- 1/3 [keras-core]\n",
      "   -------------------------- ------------- 2/3 [keras]\n",
      "   -------------------------- ------------- 2/3 [keras]\n",
      "   -------------------------- ------------- 2/3 [keras]\n",
      "   -------------------------- ------------- 2/3 [keras]\n",
      "   -------------------------- ------------- 2/3 [keras]\n",
      "   -------------------------- ------------- 2/3 [keras]\n",
      "   -------------------------- ------------- 2/3 [keras]\n",
      "   -------------------------- ------------- 2/3 [keras]\n",
      "   -------------------------- ------------- 2/3 [keras]\n",
      "   -------------------------- ------------- 2/3 [keras]\n",
      "   -------------------------- ------------- 2/3 [keras]\n",
      "   -------------------------- ------------- 2/3 [keras]\n",
      "   -------------------------- ------------- 2/3 [keras]\n",
      "   -------------------------- ------------- 2/3 [keras]\n",
      "   -------------------------- ------------- 2/3 [keras]\n",
      "   ---------------------------------------- 3/3 [keras]\n",
      "\n",
      "Successfully installed dm-tree-0.1.9 keras-3.11.3 keras-core-0.1.7\n",
      "Note: you may need to restart the kernel to use updated packages.\n"
     ]
    },
    {
     "name": "stderr",
     "output_type": "stream",
     "text": [
      "ERROR: pip's dependency resolver does not currently take into account all the packages that are installed. This behaviour is the source of the following dependency conflicts.\n",
      "tensorflow-intel 2.18.0 requires ml-dtypes<0.5.0,>=0.4.0, but you have ml-dtypes 0.2.0 which is incompatible.\n",
      "tensorflow-intel 2.18.0 requires tensorboard<2.19,>=2.18, but you have tensorboard 2.15.2 which is incompatible.\n"
     ]
    }
   ],
   "source": [
    "# Install Keras 3 (works with TF 2.16/2.17+)\n",
    "%pip install -U \"keras>=3.4.1\" keras-core tensorflow-io-gcs-filesystem\n",
    "\n",
    "# After this finishes, please: Kernel → Restart Kernel\n"
   ]
  },
  {
   "cell_type": "code",
   "execution_count": 4,
   "id": "721a3c70",
   "metadata": {},
   "outputs": [
    {
     "name": "stdout",
     "output_type": "stream",
     "text": [
      "TF: 2.18.0\n",
      "Keras: 3.11.3\n"
     ]
    }
   ],
   "source": [
    "# Must set backend BEFORE importing keras\n",
    "import os\n",
    "os.environ[\"KERAS_BACKEND\"] = \"tensorflow\"\n",
    "\n",
    "import keras\n",
    "from keras import layers, models   # <-- use these in your code\n",
    "import tensorflow as tf\n",
    "\n",
    "print(\"TF:\", tf.__version__)\n",
    "print(\"Keras:\", keras.__version__)\n"
   ]
  },
  {
   "cell_type": "code",
   "execution_count": 5,
   "id": "02ec5623",
   "metadata": {},
   "outputs": [
    {
     "name": "stdout",
     "output_type": "stream",
     "text": [
      "Note: you may need to restart the kernel to use updated packages.\n"
     ]
    }
   ],
   "source": [
    "%pip install --quiet pandas numpy scikit-learn matplotlib\n"
   ]
  },
  {
   "cell_type": "code",
   "execution_count": 2,
   "id": "3a62ac28",
   "metadata": {},
   "outputs": [
    {
     "name": "stdout",
     "output_type": "stream",
     "text": [
      "Paths exist: True True True\n"
     ]
    }
   ],
   "source": [
    "# === Cell 1 — core imports & paths (fixed) ===\n",
    "import json, math, glob\n",
    "from pathlib import Path\n",
    "import numpy as np\n",
    "import pandas as pd\n",
    "import matplotlib.pyplot as plt\n",
    "\n",
    "from sklearn.model_selection import train_test_split\n",
    "from sklearn.metrics import (roc_auc_score, average_precision_score, accuracy_score,\n",
    "                             precision_score, recall_score, f1_score, confusion_matrix,\n",
    "                             classification_report)\n",
    "from sklearn.preprocessing import StandardScaler\n",
    "from sklearn.ensemble import HistGradientBoostingClassifier\n",
    "\n",
    "import tensorflow as tf  # <-- missing before; required for set_seed etc.\n",
    "\n",
    "# Your PhysioNet folder\n",
    "DATA_ROOT = Path(r\"C:\\Users\\sarve\\Downloads\\Final_Project_hospital_app\\physionet_dataset\")\n",
    "SET_A = DATA_ROOT/\"training_setA\"\n",
    "SET_B = DATA_ROOT/\"training_setB\"\n",
    "CSV_FALLBACK = DATA_ROOT/\"Dataset.csv\"  # if present\n",
    "\n",
    "RANDOM_STATE = 42\n",
    "np.random.seed(RANDOM_STATE)\n",
    "tf.random.set_seed(RANDOM_STATE)\n",
    "\n",
    "print(\"Paths exist:\", SET_A.exists(), SET_B.exists(), CSV_FALLBACK.exists())\n"
   ]
  },
  {
   "cell_type": "code",
   "execution_count": 7,
   "id": "32978b92",
   "metadata": {},
   "outputs": [
    {
     "name": "stdout",
     "output_type": "stream",
     "text": [
      "Loaded from: CSV-stream | shape: (78417, 42)\n",
      "Columns: ['PatientID', 'ICULOS', 'SepsisLabel', 'HR', 'O2Sat', 'Temp', 'SBP', 'MAP', 'DBP', 'Resp'] ...\n",
      "Example rows:\n"
     ]
    },
    {
     "data": {
      "text/html": [
       "<div>\n",
       "<style scoped>\n",
       "    .dataframe tbody tr th:only-of-type {\n",
       "        vertical-align: middle;\n",
       "    }\n",
       "\n",
       "    .dataframe tbody tr th {\n",
       "        vertical-align: top;\n",
       "    }\n",
       "\n",
       "    .dataframe thead th {\n",
       "        text-align: right;\n",
       "    }\n",
       "</style>\n",
       "<table border=\"1\" class=\"dataframe\">\n",
       "  <thead>\n",
       "    <tr style=\"text-align: right;\">\n",
       "      <th></th>\n",
       "      <th>PatientID</th>\n",
       "      <th>ICULOS</th>\n",
       "      <th>SepsisLabel</th>\n",
       "      <th>HR</th>\n",
       "      <th>O2Sat</th>\n",
       "      <th>Temp</th>\n",
       "      <th>SBP</th>\n",
       "      <th>MAP</th>\n",
       "      <th>DBP</th>\n",
       "      <th>Resp</th>\n",
       "      <th>...</th>\n",
       "      <th>Hgb</th>\n",
       "      <th>PTT</th>\n",
       "      <th>WBC</th>\n",
       "      <th>Fibrinogen</th>\n",
       "      <th>Platelets</th>\n",
       "      <th>Age</th>\n",
       "      <th>Gender</th>\n",
       "      <th>Unit1</th>\n",
       "      <th>Unit2</th>\n",
       "      <th>HospAdmTime</th>\n",
       "    </tr>\n",
       "  </thead>\n",
       "  <tbody>\n",
       "    <tr>\n",
       "      <th>0</th>\n",
       "      <td>p000000</td>\n",
       "      <td>1.0</td>\n",
       "      <td>0.0</td>\n",
       "      <td>NaN</td>\n",
       "      <td>NaN</td>\n",
       "      <td>NaN</td>\n",
       "      <td>NaN</td>\n",
       "      <td>NaN</td>\n",
       "      <td>NaN</td>\n",
       "      <td>NaN</td>\n",
       "      <td>...</td>\n",
       "      <td>NaN</td>\n",
       "      <td>NaN</td>\n",
       "      <td>NaN</td>\n",
       "      <td>NaN</td>\n",
       "      <td>NaN</td>\n",
       "      <td>68.540001</td>\n",
       "      <td>0.0</td>\n",
       "      <td>NaN</td>\n",
       "      <td>NaN</td>\n",
       "      <td>-0.02</td>\n",
       "    </tr>\n",
       "    <tr>\n",
       "      <th>1</th>\n",
       "      <td>p000000</td>\n",
       "      <td>2.0</td>\n",
       "      <td>0.0</td>\n",
       "      <td>65.0</td>\n",
       "      <td>100.0</td>\n",
       "      <td>NaN</td>\n",
       "      <td>NaN</td>\n",
       "      <td>72.0</td>\n",
       "      <td>NaN</td>\n",
       "      <td>16.5</td>\n",
       "      <td>...</td>\n",
       "      <td>NaN</td>\n",
       "      <td>NaN</td>\n",
       "      <td>NaN</td>\n",
       "      <td>NaN</td>\n",
       "      <td>NaN</td>\n",
       "      <td>68.540001</td>\n",
       "      <td>0.0</td>\n",
       "      <td>NaN</td>\n",
       "      <td>NaN</td>\n",
       "      <td>-0.02</td>\n",
       "    </tr>\n",
       "    <tr>\n",
       "      <th>2</th>\n",
       "      <td>p000000</td>\n",
       "      <td>3.0</td>\n",
       "      <td>0.0</td>\n",
       "      <td>78.0</td>\n",
       "      <td>100.0</td>\n",
       "      <td>NaN</td>\n",
       "      <td>NaN</td>\n",
       "      <td>42.5</td>\n",
       "      <td>NaN</td>\n",
       "      <td>NaN</td>\n",
       "      <td>...</td>\n",
       "      <td>NaN</td>\n",
       "      <td>NaN</td>\n",
       "      <td>NaN</td>\n",
       "      <td>NaN</td>\n",
       "      <td>NaN</td>\n",
       "      <td>68.540001</td>\n",
       "      <td>0.0</td>\n",
       "      <td>NaN</td>\n",
       "      <td>NaN</td>\n",
       "      <td>-0.02</td>\n",
       "    </tr>\n",
       "  </tbody>\n",
       "</table>\n",
       "<p>3 rows × 42 columns</p>\n",
       "</div>"
      ],
      "text/plain": [
       "  PatientID  ICULOS  SepsisLabel    HR  O2Sat  Temp  SBP   MAP  DBP  Resp  \\\n",
       "0   p000000     1.0          0.0   NaN    NaN   NaN  NaN   NaN  NaN   NaN   \n",
       "1   p000000     2.0          0.0  65.0  100.0   NaN  NaN  72.0  NaN  16.5   \n",
       "2   p000000     3.0          0.0  78.0  100.0   NaN  NaN  42.5  NaN   NaN   \n",
       "\n",
       "   ...  Hgb  PTT  WBC  Fibrinogen  Platelets        Age  Gender  Unit1  Unit2  \\\n",
       "0  ...  NaN  NaN  NaN         NaN        NaN  68.540001     0.0    NaN    NaN   \n",
       "1  ...  NaN  NaN  NaN         NaN        NaN  68.540001     0.0    NaN    NaN   \n",
       "2  ...  NaN  NaN  NaN         NaN        NaN  68.540001     0.0    NaN    NaN   \n",
       "\n",
       "   HospAdmTime  \n",
       "0        -0.02  \n",
       "1        -0.02  \n",
       "2        -0.02  \n",
       "\n",
       "[3 rows x 42 columns]"
      ]
     },
     "execution_count": 7,
     "metadata": {},
     "output_type": "execute_result"
    }
   ],
   "source": [
    "# === Cell 2 (robust loader; replace previous Cell 2 entirely) ===\n",
    "def read_psv_folder(folder: Path):\n",
    "    files = sorted(folder.glob(\"*.psv\"))\n",
    "    out = []\n",
    "    for fp in files:\n",
    "        pid = fp.stem  # e.g., p000001\n",
    "        try:\n",
    "            df = pd.read_csv(fp, sep=\"|\")\n",
    "            df.insert(0, \"PatientID\", pid)\n",
    "            out.append(df)\n",
    "        except Exception as e:\n",
    "            print(f\"[WARN] Failed to read {fp.name}: {e}\")\n",
    "    return pd.concat(out, ignore_index=True) if out else pd.DataFrame()\n",
    "\n",
    "dfA = read_psv_folder(SET_A) if SET_A.exists() else pd.DataFrame()\n",
    "dfB = read_psv_folder(SET_B) if SET_B.exists() else pd.DataFrame()\n",
    "\n",
    "# Columns we care about (missing ones will be created as NaN)\n",
    "COLUMNS_KEEP = [\n",
    "    \"ICULOS\",\"SepsisLabel\",\"HR\",\"O2Sat\",\"Temp\",\"SBP\",\"MAP\",\"DBP\",\"Resp\",\"EtCO2\",\n",
    "    \"BaseExcess\",\"HCO3\",\"FiO2\",\"pH\",\"PaCO2\",\"SaO2\",\"AST\",\"BUN\",\"Alkalinephos\",\"Calcium\",\n",
    "    \"Chloride\",\"Creatinine\",\"Bilirubin_direct\",\"Glucose\",\"Lactate\",\"Magnesium\",\"Phosphate\",\n",
    "    \"Potassium\",\"Bilirubin_total\",\"TroponinI\",\"Hct\",\"Hgb\",\"PTT\",\"WBC\",\"Fibrinogen\",\"Platelets\",\n",
    "    \"Age\",\"Gender\",\"Unit1\",\"Unit2\",\"HospAdmTime\"\n",
    "]\n",
    "\n",
    "def load_dataset_csv_stream(csv_path: Path, max_patients: int | None = None, chunksize: int = 200_000):\n",
    "    \"\"\"\n",
    "    Stream-read Dataset.csv, reconstruct PatientID using ICULOS resets/non-increasing steps,\n",
    "    downcast to float32. Works across chunk boundaries.\n",
    "    \"\"\"\n",
    "    # Probe columns\n",
    "    probe = pd.read_csv(csv_path, nrows=5)\n",
    "    head_cols = set(probe.columns)\n",
    "    usecols = [c for c in COLUMNS_KEEP if c in head_cols]\n",
    "    # time column\n",
    "    time_col = \"ICULOS\" if \"ICULOS\" in head_cols else (\"Hour\" if \"Hour\" in head_cols else None)\n",
    "    if time_col not in usecols and time_col is not None:\n",
    "        usecols.append(time_col)\n",
    "    if time_col is None:\n",
    "        raise ValueError(\"Could not find 'ICULOS' or 'Hour' column in Dataset.csv\")\n",
    "\n",
    "    collected = []\n",
    "    # running state across chunks:\n",
    "    patient_index = -1\n",
    "    last_time = None\n",
    "\n",
    "    total_patients = 0\n",
    "\n",
    "    for chunk in pd.read_csv(csv_path, usecols=usecols, chunksize=chunksize):\n",
    "        if \"ICULOS\" not in chunk.columns and \"Hour\" in chunk.columns:\n",
    "            chunk = chunk.rename(columns={\"Hour\": \"ICULOS\"})\n",
    "\n",
    "        # Downcast numeric columns to float32\n",
    "        for c in chunk.columns:\n",
    "            chunk[c] = pd.to_numeric(chunk[c], errors=\"coerce\").astype(\"float32\")\n",
    "\n",
    "        # Detect new patient starts:\n",
    "        # Within the chunk, a new patient starts when ICULOS is <= previous ICULOS (non-increasing)\n",
    "        icu = chunk[\"ICULOS\"].values\n",
    "        starts = np.zeros(len(chunk), dtype=bool)\n",
    "        # first row of chunk: compare to last_time of previous chunk\n",
    "        if last_time is None or (icu[0] <= last_time):\n",
    "            starts[0] = True\n",
    "        # inside chunk\n",
    "        if len(icu) > 1:\n",
    "            diffs = np.diff(icu)\n",
    "            starts[1:] |= (diffs <= 0)\n",
    "\n",
    "        # Assign running patient indices\n",
    "        patient_ids = np.empty(len(chunk), dtype=np.int64)\n",
    "        for i, is_start in enumerate(starts):\n",
    "            if is_start:\n",
    "                patient_index += 1\n",
    "            patient_ids[i] = patient_index\n",
    "\n",
    "        chunk[\"PatientID\"] = [\"p\" + str(i).zfill(6) for i in patient_ids]\n",
    "        last_time = float(icu[-1]) if len(icu) else last_time\n",
    "\n",
    "        # Count new patients in this chunk\n",
    "        num_new = int(starts.sum())\n",
    "        total_patients += num_new\n",
    "\n",
    "        collected.append(chunk)\n",
    "\n",
    "        # Stop early if requested\n",
    "        if max_patients is not None and total_patients >= max_patients:\n",
    "            break\n",
    "\n",
    "    if not collected:\n",
    "        return pd.DataFrame()\n",
    "\n",
    "    df = pd.concat(collected, ignore_index=True)\n",
    "\n",
    "    # If over-read, trim to max_patients\n",
    "    if max_patients is not None:\n",
    "        keep_ids = set(\"p\" + str(i).zfill(6) for i in range(max_patients))\n",
    "        df = df[df[\"PatientID\"].isin(keep_ids)].copy()\n",
    "\n",
    "    # Ensure all desired columns exist\n",
    "    for c in COLUMNS_KEEP:\n",
    "        if c not in df.columns:\n",
    "            df[c] = np.nan\n",
    "\n",
    "    # Final order\n",
    "    cols = [\"PatientID\",\"ICULOS\",\"SepsisLabel\"] + [c for c in COLUMNS_KEEP if c not in (\"ICULOS\",\"SepsisLabel\")]\n",
    "    cols = [c for c in cols if c in df.columns]\n",
    "    df = df[cols]\n",
    "\n",
    "    return df\n",
    "\n",
    "if not dfA.empty or not dfB.empty:\n",
    "    ts_df = pd.concat([dfA, dfB], ignore_index=True)\n",
    "    source = \"PSV\"\n",
    "else:\n",
    "    # Adjust max_patients if RAM is tight; try 1000 if needed\n",
    "    ts_df = load_dataset_csv_stream(CSV_FALLBACK, max_patients=2000, chunksize=200_000)\n",
    "    source = \"CSV-stream\"\n",
    "\n",
    "print(f\"Loaded from: {source} | shape: {ts_df.shape}\")\n",
    "print(\"Columns:\", list(ts_df.columns)[:10], \"...\")\n",
    "print(\"Example rows:\")\n",
    "ts_df.head(3)\n"
   ]
  },
  {
   "cell_type": "code",
   "execution_count": 8,
   "id": "86ad0735",
   "metadata": {},
   "outputs": [
    {
     "name": "stdout",
     "output_type": "stream",
     "text": [
      "Unique patients: 2000\n",
      "count    2000.000000\n",
      "mean       39.208500\n",
      "std        23.251567\n",
      "min         8.000000\n",
      "25%        25.000000\n",
      "50%        39.000000\n",
      "75%        47.250000\n",
      "max       275.000000\n",
      "dtype: float64\n"
     ]
    }
   ],
   "source": [
    "# === Sanity check (run after Cell 2) ===\n",
    "if ts_df.empty:\n",
    "    raise RuntimeError(\"Loaded dataframe is EMPTY. Check file paths or lower max_patients in the CSV loader.\")\n",
    "n_patients = ts_df[\"PatientID\"].nunique()\n",
    "print(\"Unique patients:\", n_patients)\n",
    "print(ts_df.groupby(\"PatientID\").size().describe())\n"
   ]
  },
  {
   "cell_type": "code",
   "execution_count": 9,
   "id": "d540fe0a",
   "metadata": {},
   "outputs": [
    {
     "name": "stdout",
     "output_type": "stream",
     "text": [
      "n numeric features: 40\n",
      "Patient-level prevalence (any sepsis): 0.009\n"
     ]
    }
   ],
   "source": [
    "# Standardize column names\n",
    "ts_df.columns = [c.strip().replace(\" \", \"_\") for c in ts_df.columns]\n",
    "\n",
    "# Ensure key columns exist\n",
    "assert \"PatientID\" in ts_df.columns\n",
    "assert \"SepsisLabel\" in ts_df.columns, \"Expect a 0/1 'SepsisLabel' per time step\"\n",
    "\n",
    "# Decide time column\n",
    "time_col = \"ICULOS\" if \"ICULOS\" in ts_df.columns else (\"Hour\" if \"Hour\" in ts_df.columns else None)\n",
    "if time_col is None:\n",
    "    ts_df[\"ICULOS\"] = ts_df.groupby(\"PatientID\").cumcount()\n",
    "    time_col = \"ICULOS\"\n",
    "\n",
    "# Sort\n",
    "ts_df = ts_df.sort_values([\"PatientID\", time_col]).reset_index(drop=True)\n",
    "\n",
    "# Replace common sentinels with NaN\n",
    "ts_df = ts_df.replace([-1, \"-1\", \"NaN\", \"nan\", \"None\", \"\"], np.nan)\n",
    "\n",
    "# Numeric feature list (exclude label)\n",
    "num_cols = [c for c in ts_df.columns if ts_df[c].dtype != \"O\" and c not in [\"SepsisLabel\"]]\n",
    "print(\"n numeric features:\", len(num_cols))\n",
    "\n",
    "# Prevalence (patient-level: any-time positive)\n",
    "prev = ts_df.drop_duplicates(\"PatientID\")[\"SepsisLabel\"].mean()\n",
    "print(f\"Patient-level prevalence (any sepsis): {prev:.3f}\")\n"
   ]
  },
  {
   "cell_type": "code",
   "execution_count": 10,
   "id": "3a76040c",
   "metadata": {},
   "outputs": [
    {
     "name": "stdout",
     "output_type": "stream",
     "text": [
      "Total patients: 2000\n",
      "train/val/test patients: 1280 320 400\n"
     ]
    }
   ],
   "source": [
    "# === Cell 4 (safe split) ===\n",
    "patients = ts_df[\"PatientID\"].unique().tolist()\n",
    "n = len(patients)\n",
    "print(\"Total patients:\", n)\n",
    "\n",
    "if n < 5:\n",
    "    # not enough to split — either lower max_patients or confirm data\n",
    "    raise RuntimeError(\n",
    "        f\"Only {n} patients loaded. \"\n",
    "        \"Increase 'max_patients' in the CSV loader, or verify training_setA/B folders.\"\n",
    "    )\n",
    "\n",
    "tr_p, te_p = train_test_split(patients, test_size=0.2, random_state=RANDOM_STATE)\n",
    "tr_p, va_p = train_test_split(tr_p, test_size=0.2, random_state=RANDOM_STATE)\n",
    "\n",
    "split_map = {**{p:\"train\" for p in tr_p}, **{p:\"val\" for p in va_p}, **{p:\"test\" for p in te_p}}\n",
    "ts_df[\"split\"] = ts_df[\"PatientID\"].map(split_map)\n",
    "\n",
    "print(\"train/val/test patients:\", len(tr_p), len(va_p), len(te_p))\n"
   ]
  },
  {
   "cell_type": "code",
   "execution_count": 20,
   "id": "6b4baac4",
   "metadata": {},
   "outputs": [
    {
     "name": "stdout",
     "output_type": "stream",
     "text": [
      "Any NaNs left in X? False\n",
      "Label distribution: {0.0: 76705, 1.0: 1712}\n"
     ]
    },
    {
     "name": "stderr",
     "output_type": "stream",
     "text": [
      "C:\\Users\\sarve\\AppData\\Roaming\\Python\\Python311\\site-packages\\sklearn\\utils\\extmath.py:1144: RuntimeWarning: invalid value encountered in divide\n",
      "  updated_mean = (last_sum + new_sum) / updated_sample_count\n",
      "C:\\Users\\sarve\\AppData\\Roaming\\Python\\Python311\\site-packages\\sklearn\\utils\\extmath.py:1149: RuntimeWarning: invalid value encountered in divide\n",
      "  T = new_sum / new_sample_count\n",
      "C:\\Users\\sarve\\AppData\\Roaming\\Python\\Python311\\site-packages\\sklearn\\utils\\extmath.py:1169: RuntimeWarning: invalid value encountered in divide\n",
      "  new_unnormalized_variance -= correction**2 / new_sample_count\n"
     ]
    }
   ],
   "source": [
    "# === Cell 5 — imputation (ffill→train median), scaling, and sanitization (FIXED) ===\n",
    "def ffill_by_patient(df, cols):\n",
    "    return df.groupby(\"PatientID\", group_keys=False)[cols].apply(lambda g: g.ffill())\n",
    "\n",
    "work = ts_df.copy()\n",
    "\n",
    "# Ensure label exists and is clean\n",
    "assert \"SepsisLabel\" in work.columns, \"Expected SepsisLabel column (0/1 per timestep).\"\n",
    "work[\"SepsisLabel\"] = pd.to_numeric(work[\"SepsisLabel\"], errors=\"coerce\").fillna(0.0).clip(0, 1).astype(np.float32)\n",
    "\n",
    "# Numeric columns (exclude label)\n",
    "num_cols = [c for c in work.columns if work[c].dtype != \"O\" and c not in [\"SepsisLabel\"]]\n",
    "\n",
    "# Forward fill within patient, then fill remaining with TRAIN medians\n",
    "work[num_cols] = ffill_by_patient(work, num_cols)\n",
    "train_meds = work.loc[work[\"split\"]==\"train\", num_cols].median(numeric_only=True)\n",
    "work[num_cols] = work[num_cols].fillna(train_meds)\n",
    "\n",
    "# Standardize numeric using TRAIN split only\n",
    "from sklearn.preprocessing import StandardScaler\n",
    "scaler = StandardScaler()\n",
    "train_mask = work[\"split\"]==\"train\"\n",
    "work.loc[train_mask, num_cols] = scaler.fit_transform(work.loc[train_mask, num_cols])\n",
    "work.loc[~train_mask, num_cols] = scaler.transform(work.loc[~train_mask, num_cols])\n",
    "\n",
    "# Replace any remaining inf/nan just in case\n",
    "work[num_cols] = (work[num_cols]\n",
    "                  .replace([np.inf, -np.inf], np.nan)\n",
    "                  .fillna(0.0)\n",
    "                  .astype(np.float32))\n",
    "\n",
    "print(\"Any NaNs left in X?\", work[num_cols].isna().any().any())\n",
    "print(\"Label distribution:\", work[\"SepsisLabel\"].value_counts(dropna=False).to_dict())\n"
   ]
  },
  {
   "cell_type": "code",
   "execution_count": 21,
   "id": "d4f70b9d",
   "metadata": {},
   "outputs": [
    {
     "data": {
      "text/plain": [
       "(1280, 320, 400)"
      ]
     },
     "execution_count": 21,
     "metadata": {},
     "output_type": "execute_result"
    }
   ],
   "source": [
    "# === Cell 6 — variable-length sequences, padded with a unique value, plus sample_weight (FIXED) ===\n",
    "import tensorflow as tf\n",
    "FEATURES = num_cols\n",
    "LABEL    = \"SepsisLabel\"\n",
    "\n",
    "PAD_X = np.float32(-999.0)  # unique pad value not present after standardization\n",
    "PAD_Y = np.float32(0.0)     # labels padded with 0; we will mask them via sample_weight=0\n",
    "\n",
    "def to_sequences(df, split):\n",
    "    Xs, ys = [], []\n",
    "    for pid, g in df[df[\"split\"]==split].groupby(\"PatientID\"):\n",
    "        X = g[FEATURES].to_numpy(np.float32)        # [T, F]\n",
    "        y = g[LABEL].to_numpy(np.float32)           # [T]\n",
    "        Xs.append(X)\n",
    "        ys.append(y)\n",
    "    return Xs, ys\n",
    "\n",
    "X_tr, y_tr = to_sequences(work, \"train\")\n",
    "X_va, y_va = to_sequences(work, \"val\")\n",
    "X_te, y_te = to_sequences(work, \"test\")\n",
    "\n",
    "def to_padded_ds(X_list, y_list, batch=32, shuffle=False):\n",
    "    def gen():\n",
    "        for x, y in zip(X_list, y_list):\n",
    "            # shapes: x=[T,F], y=[T] → expand y to [T,1]\n",
    "            y_exp = np.expand_dims(y, -1).astype(np.float32)\n",
    "            # per-timestep weights 1.0 (real timesteps); padding will be handled after padded_batch\n",
    "            sw = np.ones_like(y_exp, dtype=np.float32)  # [T,1]\n",
    "            yield x.astype(np.float32), y_exp, sw\n",
    "\n",
    "    ds = tf.data.Dataset.from_generator(\n",
    "        gen,\n",
    "        output_signature=(\n",
    "            tf.TensorSpec(shape=(None, len(FEATURES)), dtype=tf.float32),  # X\n",
    "            tf.TensorSpec(shape=(None, 1), dtype=tf.float32),              # y\n",
    "            tf.TensorSpec(shape=(None, 1), dtype=tf.float32),              # sample_weight\n",
    "        )\n",
    "    )\n",
    "    if shuffle:\n",
    "        ds = ds.shuffle(len(X_list), seed=42)\n",
    "\n",
    "    # Pad to the longest sequence in the batch\n",
    "    ds = ds.padded_batch(\n",
    "        batch_size=batch,\n",
    "        padded_shapes=([None, len(FEATURES)], [None, 1], [None, 1]),\n",
    "        padding_values=(PAD_X, PAD_Y, 0.0),  # sample_weight padding = 0 so padded steps don't affect loss\n",
    "        drop_remainder=False\n",
    "    )\n",
    "\n",
    "    # (Optional) prefetch for speed\n",
    "    ds = ds.prefetch(tf.data.AUTOTUNE)\n",
    "    return ds\n",
    "\n",
    "BATCH = 32\n",
    "ds_tr = to_padded_ds(X_tr, y_tr, batch=BATCH, shuffle=True)\n",
    "ds_va = to_padded_ds(X_va, y_va, batch=BATCH, shuffle=False)\n",
    "ds_te = to_padded_ds(X_te, y_te, batch=BATCH, shuffle=False)\n",
    "\n",
    "len(X_tr), len(X_va), len(X_te)\n"
   ]
  },
  {
   "cell_type": "code",
   "execution_count": 22,
   "id": "f25d2a11",
   "metadata": {},
   "outputs": [
    {
     "data": {
      "text/html": [
       "<pre style=\"white-space:pre;overflow-x:auto;line-height:normal;font-family:Menlo,'DejaVu Sans Mono',consolas,'Courier New',monospace\"><span style=\"font-weight: bold\">Model: \"functional\"</span>\n",
       "</pre>\n"
      ],
      "text/plain": [
       "\u001b[1mModel: \"functional\"\u001b[0m\n"
      ]
     },
     "metadata": {},
     "output_type": "display_data"
    },
    {
     "data": {
      "text/html": [
       "<pre style=\"white-space:pre;overflow-x:auto;line-height:normal;font-family:Menlo,'DejaVu Sans Mono',consolas,'Courier New',monospace\">┏━━━━━━━━━━━━━━━━━━━━━┳━━━━━━━━━━━━━━━━━━━┳━━━━━━━━━━━━┳━━━━━━━━━━━━━━━━━━━┓\n",
       "┃<span style=\"font-weight: bold\"> Layer (type)        </span>┃<span style=\"font-weight: bold\"> Output Shape      </span>┃<span style=\"font-weight: bold\">    Param # </span>┃<span style=\"font-weight: bold\"> Connected to      </span>┃\n",
       "┡━━━━━━━━━━━━━━━━━━━━━╇━━━━━━━━━━━━━━━━━━━╇━━━━━━━━━━━━╇━━━━━━━━━━━━━━━━━━━┩\n",
       "│ input_layer         │ (<span style=\"color: #00d7ff; text-decoration-color: #00d7ff\">None</span>, <span style=\"color: #00d7ff; text-decoration-color: #00d7ff\">None</span>, <span style=\"color: #00af00; text-decoration-color: #00af00\">40</span>)  │          <span style=\"color: #00af00; text-decoration-color: #00af00\">0</span> │ -                 │\n",
       "│ (<span style=\"color: #0087ff; text-decoration-color: #0087ff\">InputLayer</span>)        │                   │            │                   │\n",
       "├─────────────────────┼───────────────────┼────────────┼───────────────────┤\n",
       "│ not_equal           │ (<span style=\"color: #00d7ff; text-decoration-color: #00d7ff\">None</span>, <span style=\"color: #00d7ff; text-decoration-color: #00d7ff\">None</span>, <span style=\"color: #00af00; text-decoration-color: #00af00\">40</span>)  │          <span style=\"color: #00af00; text-decoration-color: #00af00\">0</span> │ input_layer[<span style=\"color: #00af00; text-decoration-color: #00af00\">0</span>][<span style=\"color: #00af00; text-decoration-color: #00af00\">0</span>] │\n",
       "│ (<span style=\"color: #0087ff; text-decoration-color: #0087ff\">NotEqual</span>)          │                   │            │                   │\n",
       "├─────────────────────┼───────────────────┼────────────┼───────────────────┤\n",
       "│ masking (<span style=\"color: #0087ff; text-decoration-color: #0087ff\">Masking</span>)   │ (<span style=\"color: #00d7ff; text-decoration-color: #00d7ff\">None</span>, <span style=\"color: #00d7ff; text-decoration-color: #00d7ff\">None</span>, <span style=\"color: #00af00; text-decoration-color: #00af00\">40</span>)  │          <span style=\"color: #00af00; text-decoration-color: #00af00\">0</span> │ input_layer[<span style=\"color: #00af00; text-decoration-color: #00af00\">0</span>][<span style=\"color: #00af00; text-decoration-color: #00af00\">0</span>] │\n",
       "├─────────────────────┼───────────────────┼────────────┼───────────────────┤\n",
       "│ any (<span style=\"color: #0087ff; text-decoration-color: #0087ff\">Any</span>)           │ (<span style=\"color: #00d7ff; text-decoration-color: #00d7ff\">None</span>, <span style=\"color: #00d7ff; text-decoration-color: #00d7ff\">None</span>)      │          <span style=\"color: #00af00; text-decoration-color: #00af00\">0</span> │ not_equal[<span style=\"color: #00af00; text-decoration-color: #00af00\">0</span>][<span style=\"color: #00af00; text-decoration-color: #00af00\">0</span>]   │\n",
       "├─────────────────────┼───────────────────┼────────────┼───────────────────┤\n",
       "│ lstm (<span style=\"color: #0087ff; text-decoration-color: #0087ff\">LSTM</span>)         │ (<span style=\"color: #00d7ff; text-decoration-color: #00d7ff\">None</span>, <span style=\"color: #00d7ff; text-decoration-color: #00d7ff\">None</span>, <span style=\"color: #00af00; text-decoration-color: #00af00\">96</span>)  │     <span style=\"color: #00af00; text-decoration-color: #00af00\">52,608</span> │ masking[<span style=\"color: #00af00; text-decoration-color: #00af00\">0</span>][<span style=\"color: #00af00; text-decoration-color: #00af00\">0</span>],    │\n",
       "│                     │                   │            │ any[<span style=\"color: #00af00; text-decoration-color: #00af00\">0</span>][<span style=\"color: #00af00; text-decoration-color: #00af00\">0</span>]         │\n",
       "├─────────────────────┼───────────────────┼────────────┼───────────────────┤\n",
       "│ dropout (<span style=\"color: #0087ff; text-decoration-color: #0087ff\">Dropout</span>)   │ (<span style=\"color: #00d7ff; text-decoration-color: #00d7ff\">None</span>, <span style=\"color: #00d7ff; text-decoration-color: #00d7ff\">None</span>, <span style=\"color: #00af00; text-decoration-color: #00af00\">96</span>)  │          <span style=\"color: #00af00; text-decoration-color: #00af00\">0</span> │ lstm[<span style=\"color: #00af00; text-decoration-color: #00af00\">0</span>][<span style=\"color: #00af00; text-decoration-color: #00af00\">0</span>]        │\n",
       "├─────────────────────┼───────────────────┼────────────┼───────────────────┤\n",
       "│ lstm_1 (<span style=\"color: #0087ff; text-decoration-color: #0087ff\">LSTM</span>)       │ (<span style=\"color: #00d7ff; text-decoration-color: #00d7ff\">None</span>, <span style=\"color: #00d7ff; text-decoration-color: #00d7ff\">None</span>, <span style=\"color: #00af00; text-decoration-color: #00af00\">64</span>)  │     <span style=\"color: #00af00; text-decoration-color: #00af00\">41,216</span> │ dropout[<span style=\"color: #00af00; text-decoration-color: #00af00\">0</span>][<span style=\"color: #00af00; text-decoration-color: #00af00\">0</span>],    │\n",
       "│                     │                   │            │ any[<span style=\"color: #00af00; text-decoration-color: #00af00\">0</span>][<span style=\"color: #00af00; text-decoration-color: #00af00\">0</span>]         │\n",
       "├─────────────────────┼───────────────────┼────────────┼───────────────────┤\n",
       "│ time_distributed    │ (<span style=\"color: #00d7ff; text-decoration-color: #00d7ff\">None</span>, <span style=\"color: #00d7ff; text-decoration-color: #00d7ff\">None</span>, <span style=\"color: #00af00; text-decoration-color: #00af00\">1</span>)   │         <span style=\"color: #00af00; text-decoration-color: #00af00\">65</span> │ lstm_1[<span style=\"color: #00af00; text-decoration-color: #00af00\">0</span>][<span style=\"color: #00af00; text-decoration-color: #00af00\">0</span>],     │\n",
       "│ (<span style=\"color: #0087ff; text-decoration-color: #0087ff\">TimeDistributed</span>)   │                   │            │ any[<span style=\"color: #00af00; text-decoration-color: #00af00\">0</span>][<span style=\"color: #00af00; text-decoration-color: #00af00\">0</span>]         │\n",
       "└─────────────────────┴───────────────────┴────────────┴───────────────────┘\n",
       "</pre>\n"
      ],
      "text/plain": [
       "┏━━━━━━━━━━━━━━━━━━━━━┳━━━━━━━━━━━━━━━━━━━┳━━━━━━━━━━━━┳━━━━━━━━━━━━━━━━━━━┓\n",
       "┃\u001b[1m \u001b[0m\u001b[1mLayer (type)       \u001b[0m\u001b[1m \u001b[0m┃\u001b[1m \u001b[0m\u001b[1mOutput Shape     \u001b[0m\u001b[1m \u001b[0m┃\u001b[1m \u001b[0m\u001b[1m   Param #\u001b[0m\u001b[1m \u001b[0m┃\u001b[1m \u001b[0m\u001b[1mConnected to     \u001b[0m\u001b[1m \u001b[0m┃\n",
       "┡━━━━━━━━━━━━━━━━━━━━━╇━━━━━━━━━━━━━━━━━━━╇━━━━━━━━━━━━╇━━━━━━━━━━━━━━━━━━━┩\n",
       "│ input_layer         │ (\u001b[38;5;45mNone\u001b[0m, \u001b[38;5;45mNone\u001b[0m, \u001b[38;5;34m40\u001b[0m)  │          \u001b[38;5;34m0\u001b[0m │ -                 │\n",
       "│ (\u001b[38;5;33mInputLayer\u001b[0m)        │                   │            │                   │\n",
       "├─────────────────────┼───────────────────┼────────────┼───────────────────┤\n",
       "│ not_equal           │ (\u001b[38;5;45mNone\u001b[0m, \u001b[38;5;45mNone\u001b[0m, \u001b[38;5;34m40\u001b[0m)  │          \u001b[38;5;34m0\u001b[0m │ input_layer[\u001b[38;5;34m0\u001b[0m][\u001b[38;5;34m0\u001b[0m] │\n",
       "│ (\u001b[38;5;33mNotEqual\u001b[0m)          │                   │            │                   │\n",
       "├─────────────────────┼───────────────────┼────────────┼───────────────────┤\n",
       "│ masking (\u001b[38;5;33mMasking\u001b[0m)   │ (\u001b[38;5;45mNone\u001b[0m, \u001b[38;5;45mNone\u001b[0m, \u001b[38;5;34m40\u001b[0m)  │          \u001b[38;5;34m0\u001b[0m │ input_layer[\u001b[38;5;34m0\u001b[0m][\u001b[38;5;34m0\u001b[0m] │\n",
       "├─────────────────────┼───────────────────┼────────────┼───────────────────┤\n",
       "│ any (\u001b[38;5;33mAny\u001b[0m)           │ (\u001b[38;5;45mNone\u001b[0m, \u001b[38;5;45mNone\u001b[0m)      │          \u001b[38;5;34m0\u001b[0m │ not_equal[\u001b[38;5;34m0\u001b[0m][\u001b[38;5;34m0\u001b[0m]   │\n",
       "├─────────────────────┼───────────────────┼────────────┼───────────────────┤\n",
       "│ lstm (\u001b[38;5;33mLSTM\u001b[0m)         │ (\u001b[38;5;45mNone\u001b[0m, \u001b[38;5;45mNone\u001b[0m, \u001b[38;5;34m96\u001b[0m)  │     \u001b[38;5;34m52,608\u001b[0m │ masking[\u001b[38;5;34m0\u001b[0m][\u001b[38;5;34m0\u001b[0m],    │\n",
       "│                     │                   │            │ any[\u001b[38;5;34m0\u001b[0m][\u001b[38;5;34m0\u001b[0m]         │\n",
       "├─────────────────────┼───────────────────┼────────────┼───────────────────┤\n",
       "│ dropout (\u001b[38;5;33mDropout\u001b[0m)   │ (\u001b[38;5;45mNone\u001b[0m, \u001b[38;5;45mNone\u001b[0m, \u001b[38;5;34m96\u001b[0m)  │          \u001b[38;5;34m0\u001b[0m │ lstm[\u001b[38;5;34m0\u001b[0m][\u001b[38;5;34m0\u001b[0m]        │\n",
       "├─────────────────────┼───────────────────┼────────────┼───────────────────┤\n",
       "│ lstm_1 (\u001b[38;5;33mLSTM\u001b[0m)       │ (\u001b[38;5;45mNone\u001b[0m, \u001b[38;5;45mNone\u001b[0m, \u001b[38;5;34m64\u001b[0m)  │     \u001b[38;5;34m41,216\u001b[0m │ dropout[\u001b[38;5;34m0\u001b[0m][\u001b[38;5;34m0\u001b[0m],    │\n",
       "│                     │                   │            │ any[\u001b[38;5;34m0\u001b[0m][\u001b[38;5;34m0\u001b[0m]         │\n",
       "├─────────────────────┼───────────────────┼────────────┼───────────────────┤\n",
       "│ time_distributed    │ (\u001b[38;5;45mNone\u001b[0m, \u001b[38;5;45mNone\u001b[0m, \u001b[38;5;34m1\u001b[0m)   │         \u001b[38;5;34m65\u001b[0m │ lstm_1[\u001b[38;5;34m0\u001b[0m][\u001b[38;5;34m0\u001b[0m],     │\n",
       "│ (\u001b[38;5;33mTimeDistributed\u001b[0m)   │                   │            │ any[\u001b[38;5;34m0\u001b[0m][\u001b[38;5;34m0\u001b[0m]         │\n",
       "└─────────────────────┴───────────────────┴────────────┴───────────────────┘\n"
      ]
     },
     "metadata": {},
     "output_type": "display_data"
    },
    {
     "data": {
      "text/html": [
       "<pre style=\"white-space:pre;overflow-x:auto;line-height:normal;font-family:Menlo,'DejaVu Sans Mono',consolas,'Courier New',monospace\"><span style=\"font-weight: bold\"> Total params: </span><span style=\"color: #00af00; text-decoration-color: #00af00\">93,889</span> (366.75 KB)\n",
       "</pre>\n"
      ],
      "text/plain": [
       "\u001b[1m Total params: \u001b[0m\u001b[38;5;34m93,889\u001b[0m (366.75 KB)\n"
      ]
     },
     "metadata": {},
     "output_type": "display_data"
    },
    {
     "data": {
      "text/html": [
       "<pre style=\"white-space:pre;overflow-x:auto;line-height:normal;font-family:Menlo,'DejaVu Sans Mono',consolas,'Courier New',monospace\"><span style=\"font-weight: bold\"> Trainable params: </span><span style=\"color: #00af00; text-decoration-color: #00af00\">93,889</span> (366.75 KB)\n",
       "</pre>\n"
      ],
      "text/plain": [
       "\u001b[1m Trainable params: \u001b[0m\u001b[38;5;34m93,889\u001b[0m (366.75 KB)\n"
      ]
     },
     "metadata": {},
     "output_type": "display_data"
    },
    {
     "data": {
      "text/html": [
       "<pre style=\"white-space:pre;overflow-x:auto;line-height:normal;font-family:Menlo,'DejaVu Sans Mono',consolas,'Courier New',monospace\"><span style=\"font-weight: bold\"> Non-trainable params: </span><span style=\"color: #00af00; text-decoration-color: #00af00\">0</span> (0.00 B)\n",
       "</pre>\n"
      ],
      "text/plain": [
       "\u001b[1m Non-trainable params: \u001b[0m\u001b[38;5;34m0\u001b[0m (0.00 B)\n"
      ]
     },
     "metadata": {},
     "output_type": "display_data"
    }
   ],
   "source": [
    "# === Cell 7 — LSTM model with proper masking (FIXED) ===\n",
    "import keras\n",
    "from keras import layers, models\n",
    "\n",
    "keras.backend.clear_session()\n",
    "\n",
    "F = len(FEATURES)\n",
    "inp = layers.Input(shape=(None, F))\n",
    "x = layers.Masking(mask_value=PAD_X)(inp)        # match the PAD_X used in the dataset\n",
    "x = layers.LSTM(96, return_sequences=True)(x)\n",
    "x = layers.Dropout(0.3)(x)\n",
    "x = layers.LSTM(64, return_sequences=True)(x)\n",
    "out = layers.TimeDistributed(layers.Dense(1, activation=\"sigmoid\"))(x)\n",
    "\n",
    "model = models.Model(inp, out)\n",
    "model.compile(\n",
    "    optimizer=keras.optimizers.Adam(1e-3),\n",
    "    loss=\"binary_crossentropy\",\n",
    "    metrics=[keras.metrics.AUC(name=\"auc\", curve=\"ROC\")]\n",
    ")\n",
    "model.summary()\n"
   ]
  },
  {
   "cell_type": "code",
   "execution_count": 23,
   "id": "82cfa0e3",
   "metadata": {},
   "outputs": [
    {
     "name": "stdout",
     "output_type": "stream",
     "text": [
      "Epoch 1/20\n",
      "     40/Unknown \u001b[1m7s\u001b[0m 86ms/step - auc: 0.5988 - loss: 0.4321"
     ]
    },
    {
     "name": "stderr",
     "output_type": "stream",
     "text": [
      "C:\\Users\\sarve\\AppData\\Roaming\\Python\\Python311\\site-packages\\keras\\src\\trainers\\epoch_iterator.py:164: UserWarning: Your input ran out of data; interrupting training. Make sure that your dataset or generator can generate at least `steps_per_epoch * epochs` batches. You may need to use the `.repeat()` function when building your dataset.\n",
      "  self._interrupted_warning()\n"
     ]
    },
    {
     "name": "stdout",
     "output_type": "stream",
     "text": [
      "\u001b[1m40/40\u001b[0m \u001b[32m━━━━━━━━━━━━━━━━━━━━\u001b[0m\u001b[37m\u001b[0m \u001b[1m8s\u001b[0m 104ms/step - auc: 0.5892 - loss: 0.2870 - val_auc: 0.6897 - val_loss: 0.1575 - learning_rate: 0.0010\n",
      "Epoch 2/20\n",
      "\u001b[1m40/40\u001b[0m \u001b[32m━━━━━━━━━━━━━━━━━━━━\u001b[0m\u001b[37m\u001b[0m \u001b[1m4s\u001b[0m 86ms/step - auc: 0.7063 - loss: 0.1388 - val_auc: 0.7404 - val_loss: 0.1388 - learning_rate: 0.0010\n",
      "Epoch 3/20\n",
      "\u001b[1m40/40\u001b[0m \u001b[32m━━━━━━━━━━━━━━━━━━━━\u001b[0m\u001b[37m\u001b[0m \u001b[1m4s\u001b[0m 94ms/step - auc: 0.7841 - loss: 0.1219 - val_auc: 0.7424 - val_loss: 0.1290 - learning_rate: 0.0010\n",
      "Epoch 4/20\n",
      "\u001b[1m40/40\u001b[0m \u001b[32m━━━━━━━━━━━━━━━━━━━━\u001b[0m\u001b[37m\u001b[0m \u001b[1m4s\u001b[0m 97ms/step - auc: 0.8128 - loss: 0.1091 - val_auc: 0.7594 - val_loss: 0.1252 - learning_rate: 0.0010\n",
      "Epoch 5/20\n",
      "\u001b[1m40/40\u001b[0m \u001b[32m━━━━━━━━━━━━━━━━━━━━\u001b[0m\u001b[37m\u001b[0m \u001b[1m4s\u001b[0m 87ms/step - auc: 0.8369 - loss: 0.0999 - val_auc: 0.7578 - val_loss: 0.1237 - learning_rate: 0.0010\n",
      "Epoch 6/20\n",
      "\u001b[1m40/40\u001b[0m \u001b[32m━━━━━━━━━━━━━━━━━━━━\u001b[0m\u001b[37m\u001b[0m \u001b[1m0s\u001b[0m 82ms/step - auc: 0.8596 - loss: 0.0930\n",
      "Epoch 6: ReduceLROnPlateau reducing learning rate to 0.0005000000237487257.\n",
      "\u001b[1m40/40\u001b[0m \u001b[32m━━━━━━━━━━━━━━━━━━━━\u001b[0m\u001b[37m\u001b[0m \u001b[1m4s\u001b[0m 87ms/step - auc: 0.8509 - loss: 0.0926 - val_auc: 0.7350 - val_loss: 0.1266 - learning_rate: 0.0010\n",
      "Epoch 7/20\n",
      "\u001b[1m40/40\u001b[0m \u001b[32m━━━━━━━━━━━━━━━━━━━━\u001b[0m\u001b[37m\u001b[0m \u001b[1m4s\u001b[0m 88ms/step - auc: 0.8745 - loss: 0.0853 - val_auc: 0.7493 - val_loss: 0.1297 - learning_rate: 5.0000e-04\n"
     ]
    },
    {
     "data": {
      "image/png": "[encoded data removed]",
      "text/plain": [
       "<Figure size 640x480 with 1 Axes>"
      ]
     },
     "metadata": {},
     "output_type": "display_data"
    }
   ],
   "source": [
    "cbs = [\n",
    "    keras.callbacks.EarlyStopping(monitor=\"val_auc\", mode=\"max\", patience=3, restore_best_weights=True),\n",
    "    keras.callbacks.ReduceLROnPlateau(monitor=\"val_auc\", mode=\"max\", factor=0.5, patience=2, min_lr=1e-5, verbose=1),\n",
    "]\n",
    "\n",
    "hist = model.fit(\n",
    "    ds_tr, validation_data=ds_va,\n",
    "    epochs=20, callbacks=cbs, verbose=1\n",
    ")\n",
    "\n",
    "plt.plot(hist.history[\"auc\"], label=\"train AUC\")\n",
    "plt.plot(hist.history[\"val_auc\"], label=\"val AUC\")\n",
    "plt.legend(); plt.title(\"LSTM ROC-AUC\"); plt.show()\n"
   ]
  },
  {
   "cell_type": "code",
   "execution_count": 24,
   "id": "ff9cd0a8",
   "metadata": {},
   "outputs": [
    {
     "name": "stdout",
     "output_type": "stream",
     "text": [
      "Step-wise — AUROC: 0.7153 | AUPRC: 0.0323 | Thr*: 0.030\n",
      "Acc: 0.8193 | Prec: 0.0193 | Rec: 0.5170 | F1: 0.0372\n",
      "Confusion [rows=true, cols=pred]:\n",
      " [[32032  6967]\n",
      " [  128   137]]\n"
     ]
    }
   ],
   "source": [
    "# === Cell 9 — evaluation (step-wise) ===\n",
    "y_true_steps, y_prob_steps = [], []\n",
    "for xb, yb, sw in ds_te:                 # now dataset yields 3 items\n",
    "    pb = model.predict(xb, verbose=0)    # [B, T, 1]\n",
    "    y_true_steps.append(yb.numpy().squeeze(-1))   # [B, T]\n",
    "    y_prob_steps.append(pb.squeeze(-1))           # [B, T]\n",
    "\n",
    "y_true_steps = np.concatenate([a.ravel() for a in y_true_steps])\n",
    "y_prob_steps = np.concatenate([a.ravel() for a in y_prob_steps])\n",
    "\n",
    "mask = ~np.isnan(y_true_steps) & ~np.isnan(y_prob_steps)\n",
    "y_true_steps = y_true_steps[mask].astype(int)\n",
    "y_prob_steps = y_prob_steps[mask].astype(float)\n",
    "\n",
    "from sklearn.metrics import roc_auc_score, average_precision_score, roc_curve, accuracy_score, precision_score, recall_score, f1_score, confusion_matrix\n",
    "\n",
    "auroc = roc_auc_score(y_true_steps, y_prob_steps) if len(np.unique(y_true_steps))==2 else float(\"nan\")\n",
    "auprc = average_precision_score(y_true_steps, y_prob_steps) if len(np.unique(y_true_steps))==2 else float(\"nan\")\n",
    "\n",
    "fpr, tpr, thr = roc_curve(y_true_steps, y_prob_steps)\n",
    "best_thr = float(thr[np.argmax(tpr - fpr)]) if len(thr) else 0.5\n",
    "\n",
    "y_pred_steps = (y_prob_steps >= best_thr).astype(int)\n",
    "acc  = accuracy_score(y_true_steps, y_pred_steps)\n",
    "prec = precision_score(y_true_steps, y_pred_steps, zero_division=0)\n",
    "rec  = recall_score(y_true_steps, y_pred_steps, zero_division=0)\n",
    "f1   = f1_score(y_true_steps, y_pred_steps, zero_division=0)\n",
    "cm   = confusion_matrix(y_true_steps, y_pred_steps, labels=[0,1])\n",
    "\n",
    "print(f\"Step-wise — AUROC: {auroc:.4f} | AUPRC: {auprc:.4f} | Thr*: {best_thr:.3f}\")\n",
    "print(f\"Acc: {acc:.4f} | Prec: {prec:.4f} | Rec: {rec:.4f} | F1: {f1:.4f}\")\n",
    "print(\"Confusion [rows=true, cols=pred]:\\n\", cm)\n"
   ]
  },
  {
   "cell_type": "code",
   "execution_count": null,
   "id": "a8a6e087",
   "metadata": {},
   "outputs": [],
   "source": []
  }
 ],
 "metadata": {
  "kernelspec": {
   "display_name": "Python 3",
   "language": "python",
   "name": "python3"
  },
  "language_info": {
   "codemirror_mode": {
    "name": "ipython",
    "version": 3
   },
   "file_extension": ".py",
   "mimetype": "text/x-python",
   "name": "python",
   "nbconvert_exporter": "python",
   "pygments_lexer": "ipython3",
   "version": "3.11.5"
  }
 },
 "nbformat": 4,
 "nbformat_minor": 5
}
